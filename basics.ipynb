{
 "cells": [
  {
   "cell_type": "markdown",
   "metadata": {
    "slideshow": {
     "slide_type": "slide"
    }
   },
   "source": [
    "<img src=\"img/qiskit-heading.png\" alt=\"Note: In order for images to show up in this jupyter notebook you need to select File => Trusted Notebook\" width=\"500 px\" align=\"center\">\n",
    "\n",
    "\n",
    "# Hands-on  introduction to Qiskit\n",
    "\n",
    "## University of Minho\n",
    "\n",
    "### Afonso Rodrigues and Ana Neri"
   ]
  },
  {
   "cell_type": "markdown",
   "metadata": {
    "slideshow": {
     "slide_type": "slide"
    }
   },
   "source": [
    "### The \"big picture\"\n",
    "\n",
    "<img src=\"img/qiskit_comp.jpg\" alt=\"Note: In order for images to show up in this jupyter notebook you need to select File => Trusted Notebook\" width=\"1000 px\" align=\"center\">"
   ]
  },
  {
   "cell_type": "markdown",
   "metadata": {
    "slideshow": {
     "slide_type": "subslide"
    }
   },
   "source": [
    "<!-- Here, we provide an overview of working with Qiskit. Qiskit provides the basic building blocks necessary to program quantum computers. --> \n",
    "\n",
    "\n",
    "\n",
    "<img src=\"img/qiskit_components.png\" alt=\"Note: In order for images to show up in this jupyter notebook you need to select File => Trusted Notebook\" width=\"1000 px\" align=\"center\">\n",
    "\n",
    "\n",
    "<!-- este texto como uma nota e não em slides -->\n",
    "\n",
    "<!-- The foundation of Qiskit is the **Terra** element. The basic concept of Qiskit Terra is an array of quantum circuits. A workflow using Terra consists of two stages: **Build** and **Execute**. **Build** allows you to make different quantum circuits that represent the problem you are solving, and **Execute** allows you to run them on different backends.  After the jobs have been run, the data is collected. There are methods for putting this data together, depending on the program. This either gives you the answer you wanted, or allows you to make a better program for the next instance. -->\n",
    "\n",
    "<!-- **Aqua** is where algorithms for NISQ computers are built. These algorithms can be used to build applications for quantum computing. Aqua is accessible to domain experts in chemistry, optimization or AI, who want to explore the benefits of using quantum computers as accelerators for specific computational tasks, without needing to worry about how to translate the problem into the language of quantum machines. -->\n",
    "\n",
    "<!-- With **Aer** it is possible to access high-quality, high-performance simulators and continue to improve their scalability and features. Aer will help us understand the limits of classical processors by demonstrating to what extent they can mimic quantum computation. Furthermore, we can use Aer to verify that current and near-future quantum computers function correctly. -->\n",
    "\n",
    "<!-- **Ignis** is a framework for understanding and mitigating noise in quantum circuits and devices. Ignis provides self-contained experiments that include tools for generating the circuits that can be executed on real backends via Terra (or on simulators via Aer) and the tools for fitting the results and analysing the data. -->"
   ]
  },
  {
   "cell_type": "markdown",
   "metadata": {
    "slideshow": {
     "slide_type": "slide"
    }
   },
   "source": [
    "# Contents\n",
    "\n",
    "* [Recall the theory](#theory)\n",
    "* [First Quantum Circuit](#firstQC)\n",
    "* [Simulating circuits with Qiskit Aer](#aer_simulation)\n",
    "* [Running circuits using the IBMQ provider](#ibmq_provider)\n",
    "* [Deutsch-Josza Algorithm](#Deutsch)\n",
    "* [Ignis](#ignis)\n",
    "\n",
    "<!--[Summary of quantum operations](#quantum_operations)-->\n",
    "\n",
    "<!--[Circuit basics](#circuit_basics)-->\n",
    "\n",
    "<!--[Simulating circuits with Qiskit Aer](#aer_simulation)-->\n",
    "\n",
    "<!--[Running circuits using the IBMQ provider](#ibmq_provider)-->\n",
    "\n",
    "<!--[Practical exercises](#exercises)-->"
   ]
  },
  {
   "cell_type": "markdown",
   "metadata": {
    "slideshow": {
     "slide_type": "slide"
    }
   },
   "source": [
    "## Recall the theory"
   ]
  },
  {
   "cell_type": "markdown",
   "metadata": {
    "slideshow": {
     "slide_type": "subslide"
    }
   },
   "source": [
    "<!-- ## Single Qubit Quantum states -->\n",
    "\n",
    "A single qubit quantum state <!-- can be written as -->\n",
    "\n",
    "$$|\\psi\\rangle = \\alpha|0\\rangle + \\beta |1\\rangle$$\n",
    "\n",
    "\n",
    "<!-- where $\\alpha$ and $\\beta$ are complex numbers. In a measurement the probability of the bit being in $|0\\rangle$ is $|\\alpha|^2$ and $|1\\rangle$ is $|\\beta|^2$.--> As a vector this is\n",
    "\n",
    "$$\n",
    "|\\psi\\rangle =  \n",
    "\\begin{pmatrix}\n",
    "\\alpha \\\\\n",
    "\\beta\n",
    "\\end{pmatrix}.\n",
    "$$\n",
    "\n",
    "<!-- Note due to conservation probability $|\\alpha|^2+ |\\beta|^2 = 1$ and since global phase is undetectable $|\\psi\\rangle := e^{i\\delta} |\\psi\\rangle$ we only require two real numbers to describe a single qubit quantum state. -->\n",
    "\n",
    "<!-- A convenient representation is -->\n",
    "Another representation is\n",
    "\n",
    "$$|\\psi\\rangle = \\cos \\left( \\frac{\\theta}{2} \\right)|0\\rangle + \\sin\\left( \\frac{\\theta}{2}\\right) e^{i\\phi}|1\\rangle$$"
   ]
  },
  {
   "cell_type": "markdown",
   "metadata": {
    "slideshow": {
     "slide_type": "subslide"
    }
   },
   "source": [
    "<!-- where $0\\leq \\phi < 2\\pi$, and $0\\leq \\theta \\leq \\pi$.  From this it is clear that there is a one-to-one correspondence between qubit states ($\\mathbb{C}^2$) and the points on the surface of a unit sphere ($\\mathbb{R}^3$). This is called the Bloch sphere representation of a qubit state. -->\n",
    "\n",
    "### Bloch sphere\n",
    "<center>\n",
    "<img src=\"img/Bloch_sphere.png\" alt=\"Note: In order for images to show up in this jupyter notebook you need to select File => Trusted Notebook\" width=\"300 px\">\n",
    "</center>\n",
    "\n",
    "<!-- By contrast, a representation of a classical bit over the Bloch sphere would only require the two points of the sphere intersecting the Z axis. --> \n",
    "\n"
   ]
  },
  {
   "cell_type": "markdown",
   "metadata": {
    "slideshow": {
     "slide_type": "subslide"
    }
   },
   "source": [
    "Quantum gates/operations may be represented as matrices. <!-- A gate which acts on a qubit is represented by a $2\\times 2$ unitary matrix $U$. --> \n",
    "\n",
    "The action of the quantum gate is expressed by the product of its matrix with the vector representing the quantum state.\n",
    "\n",
    "$$|\\psi'\\rangle = U|\\psi\\rangle$$\n",
    "\n",
    "<!-- A general unitary must be able to take the $|0\\rangle$ to the above state. That is -->\n",
    "\n",
    "<!-- $$\n",
    "U = \\begin{pmatrix}\n",
    "\\cos(\\theta/2) & a \\\\\n",
    "e^{i\\phi}\\sin(\\theta/2) & b \n",
    "\\end{pmatrix}\n",
    "$$ -->\n",
    "\n",
    "<!-- where $a$ and $b$ are complex numbers constrained such that $U^\\dagger U = I$ for all $0\\leq\\theta\\leq\\pi$ and $0\\leq \\phi<2\\pi$. This gives 3 constraints and as such $a\\rightarrow -e^{i\\lambda}\\sin(\\theta/2)$ and $b\\rightarrow e^{i\\lambda+i\\phi}\\cos(\\theta/2)$ where $0\\leq \\lambda<2\\pi$ giving --> \n",
    "\n",
    "The most general form of a single qubit unitary gate\n",
    "\n",
    "$$\n",
    "U = \\begin{pmatrix}\n",
    "\\cos(\\theta/2) & -e^{i\\lambda}\\sin(\\theta/2) \\\\\n",
    "e^{i\\phi}\\sin(\\theta/2) & e^{i\\lambda+i\\phi}\\cos(\\theta/2) \n",
    "\\end{pmatrix}.\n",
    "$$\n",
    "\n",
    "<!-- This is the most general form of a single qubit unitary. -->"
   ]
  },
  {
   "cell_type": "markdown",
   "metadata": {
    "slideshow": {
     "slide_type": "skip"
    }
   },
   "source": [
    "<a id = 'firstQC'></a>"
   ]
  },
  {
   "cell_type": "markdown",
   "metadata": {
    "slideshow": {
     "slide_type": "slide"
    }
   },
   "source": [
    "## Let's start building a circuit "
   ]
  },
  {
   "cell_type": "code",
   "execution_count": 1,
   "metadata": {
    "slideshow": {
     "slide_type": "subslide"
    }
   },
   "outputs": [],
   "source": [
    "# Ignore warnings for the purpose of this demonstration\n",
    "import warnings\n",
    "warnings.filterwarnings('ignore')"
   ]
  },
  {
   "cell_type": "code",
   "execution_count": 2,
   "metadata": {
    "slideshow": {
     "slide_type": "fragment"
    }
   },
   "outputs": [],
   "source": [
    "# Useful additional packages \n",
    "import matplotlib.pyplot as plt\n",
    "%matplotlib inline\n",
    "import numpy as np\n",
    "from math import pi"
   ]
  },
  {
   "cell_type": "code",
   "execution_count": 3,
   "metadata": {
    "ExecuteTime": {
     "end_time": "2018-09-29T00:04:16.313210Z",
     "start_time": "2018-09-29T00:04:14.460647Z"
    },
    "hideOutput": false,
    "slideshow": {
     "slide_type": "fragment"
    }
   },
   "outputs": [],
   "source": [
    "# Relevant QISKit modules\n",
    "from qiskit import QuantumCircuit, ClassicalRegister, QuantumRegister"
   ]
  },
  {
   "cell_type": "code",
   "execution_count": 4,
   "metadata": {
    "hideCode": false,
    "hideOutput": false,
    "slideshow": {
     "slide_type": "skip"
    }
   },
   "outputs": [],
   "source": [
    "# Auxiliary functions for circuit execution\n",
    "from qiskit import Aer, BasicAer, execute\n",
    "from qiskit.tools.visualization import plot_histogram, circuit_drawer\n",
    "\n",
    "def show_results(D):\n",
    "    plt.bar(range(len(D)), list(D.values()), align='center')\n",
    "    plt.xticks(range(len(D)), list(D.keys()))\n",
    "    plt.show()\n",
    "\n",
    "\n",
    "# Execute circuit, display a histogram of the results\n",
    "def execute_locally(qc, draw_circuit=False):\n",
    "    # Compile and run the Quantum circuit on a simulator backend\n",
    "    backend_sim = Aer.get_backend('qasm_simulator')\n",
    "    job_sim = execute(qc, backend_sim, shots=1000)\n",
    "    result_sim = job_sim.result()\n",
    "    result_counts = result_sim.get_counts(qc)\n",
    "    \n",
    "    # Print the results\n",
    "    print(\"Simulation: \\n\\n\", result_counts)\n",
    "    \n",
    "    if draw_circuit: # draw the circuit\n",
    "        qc.draw()\n",
    "    else: # or show the results\n",
    "        show_results(result_counts)"
   ]
  },
  {
   "cell_type": "code",
   "execution_count": 5,
   "metadata": {
    "slideshow": {
     "slide_type": "subslide"
    }
   },
   "outputs": [
    {
     "data": {
      "text/html": [
       "<pre style=\"word-wrap: normal;white-space: pre;line-height: 15px;\">         \n",
       "q0_0: |0>\n",
       "         \n",
       "q0_1: |0>\n",
       "         \n",
       " c0_0: 0 \n",
       "         \n",
       " c0_1: 0 \n",
       "         </pre>"
      ],
      "text/plain": [
       "<qiskit.tools.visualization._text.TextDrawing at 0x1b787ed7278>"
      ]
     },
     "execution_count": 5,
     "metadata": {},
     "output_type": "execute_result"
    }
   ],
   "source": [
    "# Create registers\n",
    "qr0 = QuantumRegister(2)\n",
    "# you only need the classical register if you want to do measurement!\n",
    "cr0 = ClassicalRegister(2)\n",
    "\n",
    "# Create quantum circuit\n",
    "qc = QuantumCircuit(qr0, cr0)\n",
    "\n",
    "qc.draw()"
   ]
  },
  {
   "cell_type": "markdown",
   "metadata": {
    "slideshow": {
     "slide_type": "subslide"
    }
   },
   "source": [
    "#### Circuits are the primary unit of computation in Terra!\n",
    "\n",
    "Circuits contain:\n",
    "\n",
    "* name - for referencing the circuit later\n",
    "* data - list of gates in the circuit\n",
    "* registers - quantum and classical registers\n",
    "\n",
    "They do **not** contain information about possible backends."
   ]
  },
  {
   "cell_type": "markdown",
   "metadata": {
    "slideshow": {
     "slide_type": "slide"
    }
   },
   "source": [
    "# Gates"
   ]
  },
  {
   "cell_type": "markdown",
   "metadata": {
    "slideshow": {
     "slide_type": "subslide"
    }
   },
   "source": [
    "Although the basic gate set of IBM Q devices is $$\\{id, u1, u2, u3, cx\\}$$ QISKit supports many gates. (check the [Summary of quantum operations](https://github.com/Qiskit/qiskit-tutorials/blob/master/qiskit/terra/summary_of_quantum_operations.ipynb) in the tutorials of terra) "
   ]
  },
  {
   "cell_type": "markdown",
   "metadata": {
    "slideshow": {
     "slide_type": "subslide"
    }
   },
   "source": [
    "#### Example: Gate $X$ (bit-flip gate)\n",
    "\n",
    "The X-gate is also known as NOT gate or “bit-flip”, since it changes a state $| 0 \\rangle $ to $| 1 \\rangle $ and vice versa. This is quantum analogue to a classical NOT gate.\n",
    "\n",
    "On the Bloch sphere representation, this operation corresponds to a rotation of the state around the X-axis by $\\pi$ radians.\n",
    "\n",
    "<center>\n",
    "<img src=\"img/xbloch.png\" width=\"700 px\">\n",
    "</center>"
   ]
  },
  {
   "cell_type": "markdown",
   "metadata": {
    "slideshow": {
     "slide_type": "subslide"
    }
   },
   "source": [
    "#### Example: $Z$ (phase-flip gate)\n",
    "\n",
    "The phase flip gate $Z$ is defined as:\n",
    "\n",
    "$$\n",
    "Z = \n",
    "\\begin{pmatrix}\n",
    "1 & 0\\\\\n",
    "0 & -1\n",
    "\\end{pmatrix}\n",
    "$$\n",
    "\n",
    "It leaves the basis state $|0 \\rangle $ unchanged, while mapping $| 1 \\rangle$ to $- | 1 \\rangle $. In the Bloch sphere representation, and similarly to the $X$ gate, it rotates the state around the $Z$ axis by $\\pi$ radians."
   ]
  },
  {
   "cell_type": "markdown",
   "metadata": {
    "slideshow": {
     "slide_type": "subslide"
    }
   },
   "source": [
    "#### Example: Hadamard gate\n",
    "\n",
    "The Hadamard gate may be used to create superposition. It maps the basis state $| 0 \\rangle$ to $| + \\rangle =\\frac{| 0 \\rangle + | 1 \\rangle }{\\sqrt{2}}$, and $| 1 \\rangle $ to $ | - \\rangle =\\frac{ |0 \\rangle - |1 \\rangle }{\\sqrt{2}}$. <!-- On the Bloch sphere, $| + \\rangle$ and $| - \\rangle $ are represented by points on the X axis. When measured, these states have equal probability of becoming $| 1\\rangle $ or $| 0 \\rangle $, since the square modulus of the probability amplitude for each of the states has equal value. -->\n",
    "\n",
    "<center>\n",
    "<img src=\"img/hbloch.png\" width=\"700 px\">\n",
    "</center>\n",
    "\n",
    "<!-- In fact, $|+\\rangle $ and $| - \\rangle $ are indistinguishable when measured on the computational basis. However, the states can be identified by measuring the qubit on the superposition basis, i.e. along the X-axis. A way to achieve this is by simply applying an Hadamard gate before performing the measurement, as shown in the following figure.\n",
    "\n",
    "\n",
    "<img src=\"img/hhbloch.png\" width=\"700 px\" align=\"center\">\n",
    "-->\n",
    "\n",
    "The Hadamard gate, along with the X, Y and Z gates, is self-inverse: $H.H = I$."
   ]
  },
  {
   "cell_type": "markdown",
   "metadata": {
    "slideshow": {
     "slide_type": "subslide"
    }
   },
   "source": [
    "## Computational and superposition basis<a id='gates_basis'></a>\n",
    "\n",
    "Any set of orthogonal states spanning all dimensions of the Hilbert space of the quantum state can be used as a basis. The Hadamard gate may be used to easily change between the computational ($| 0 \\rangle$ and $|1 \\rangle$) and the superpositon basis, where:\n",
    "\n",
    "- $| + \\rangle = \\frac{1}{\\sqrt{2}} | 0 \\rangle + | 1 \\rangle$\n",
    "- $| - \\rangle = \\frac{1}{\\sqrt{2}} | 0 \\rangle - | 1 \\rangle$\n",
    "\n",
    "<center>\n",
    "<img src=\"files/img/h_x_z.png\" alt=\"Note: In order for images to show up in this jupyter notebook you need to select File => Trusted Notebook\" width=\"400 px\">                                                                                           \n",
    "</center>\n",
    "\n",
    "\n",
    "The above diagram is a useful shorthand for quantum states conversion using quantum gates, and it also depicts the consequences of reversible computation. Literally, you can have a qubit in any of the four states $|0\\rangle$, $|1\\rangle$, $|-\\rangle$, $|+\\rangle$  and obtain any other from it by performing simple one qubit gates."
   ]
  },
  {
   "cell_type": "code",
   "execution_count": 6,
   "metadata": {
    "slideshow": {
     "slide_type": "subslide"
    }
   },
   "outputs": [
    {
     "data": {
      "image/png": "[encoded data removed]",
      "text/plain": [
       "<Figure size 662.2x379.26 with 1 Axes>"
      ]
     },
     "execution_count": 6,
     "metadata": {},
     "output_type": "execute_result"
    }
   ],
   "source": [
    "qr = QuantumRegister(3)\n",
    "cr = ClassicalRegister(3)\n",
    "qc_basis = QuantumCircuit(qr, cr)\n",
    "# An X gate in the computational basis\n",
    "qc_basis.x(qr[0])\n",
    "# Is equivalent to a Z gate in the superposition basis\n",
    "qc_basis.h(qr[1])\n",
    "qc_basis.z(qr[1])\n",
    "qc_basis.h(qr[1])\n",
    "# What happens when we apply the Z gate without changing basis?\n",
    "qc_basis.z(qr[2])\n",
    "# Measure qubits into classical register\n",
    "qc_basis.measure(qr,cr)\n",
    "# Draw the quantum circuits\n",
    "qc_basis.draw(output='mpl')"
   ]
  },
  {
   "cell_type": "code",
   "execution_count": 7,
   "metadata": {
    "slideshow": {
     "slide_type": "subslide"
    }
   },
   "outputs": [
    {
     "name": "stdout",
     "output_type": "stream",
     "text": [
      "Simulation: \n",
      "\n",
      " {'011': 1000}\n"
     ]
    },
    {
     "data": {
      "image/png": "[encoded data removed]",
      "text/plain": [
       "<Figure size 432x288 with 1 Axes>"
      ]
     },
     "metadata": {},
     "output_type": "display_data"
    }
   ],
   "source": [
    "execute_locally(qc_basis)"
   ]
  },
  {
   "cell_type": "markdown",
   "metadata": {
    "slideshow": {
     "slide_type": "slide"
    }
   },
   "source": [
    "## CNOT and other multi-qubit operations\n",
    "\n",
    "No set of quantum gates containing only single qubit operations can ever be universal (i.e. form a basis to perform any quantum operation on a multi-qubit quantum system).\n",
    "\n",
    "The CNOT gate, also known as controlled-X, is the fundamental two-qubit gate. Together with a generalized single-qubit unitary gate, we are able to decompose **any** multi-qubit operation. The CNOT gate takes one qubit as control, and one qubit as target.\n",
    "\n",
    "- if the control qubit is in the state $| 0 \\rangle$, the target qubit is left alone;\n",
    "- if the control qubit is in the state $| 1 \\rangle$, the X gate is applied to the target qubit.\n",
    "\n",
    "<center>\n",
    "<img src=\"files/img/cnot.png\" alt=\"Note: In order for images to show up in this jupyter notebook you need to select File => Trusted Notebook\" width=\"200 px\">       \n",
    "</center>\n",
    "This gate allows us to unlock a powerful property of quantum particles: **entanglement**. Without it, quantum computers would lose most of their potential advantage over the classical computing paradigm.\n",
    "\n",
    "In quantum circuits, CNOT gates are used to entangle pairs of qubits."
   ]
  },
  {
   "cell_type": "code",
   "execution_count": 8,
   "metadata": {
    "slideshow": {
     "slide_type": "subslide"
    }
   },
   "outputs": [
    {
     "data": {
      "image/png": "[encoded data removed]",
      "text/plain": [
       "<Figure size 421.4x258.86 with 1 Axes>"
      ]
     },
     "execution_count": 8,
     "metadata": {},
     "output_type": "execute_result"
    }
   ],
   "source": [
    "qr = QuantumRegister(2)\n",
    "cr = ClassicalRegister(2)\n",
    "\n",
    "qc_multi_qubit = QuantumCircuit(qr, cr)\n",
    "\n",
    "qc_multi_qubit.h(qr[0])\n",
    "qc_multi_qubit.cx(qr[0],qr[1])\n",
    "\n",
    "qc_multi_qubit.measure(qr,cr)\n",
    "\n",
    "qc_multi_qubit.draw(output='mpl')"
   ]
  },
  {
   "cell_type": "code",
   "execution_count": 9,
   "metadata": {
    "slideshow": {
     "slide_type": "subslide"
    }
   },
   "outputs": [
    {
     "name": "stdout",
     "output_type": "stream",
     "text": [
      "Simulation: \n",
      "\n",
      " {'11': 520, '00': 480}\n"
     ]
    },
    {
     "data": {
      "image/png": "[encoded data removed]",
      "text/plain": [
       "<Figure size 432x288 with 1 Axes>"
      ]
     },
     "metadata": {},
     "output_type": "display_data"
    }
   ],
   "source": [
    "execute_locally(qc_multi_qubit)"
   ]
  },
  {
   "cell_type": "markdown",
   "metadata": {
    "slideshow": {
     "slide_type": "subslide"
    }
   },
   "source": [
    "Other commonly mentioned multi-qubit gates (which can be decomposed into CNOT's):\n",
    "\n",
    "- The SWAP gate, which exchanges the state of two qubits;\n",
    "\n",
    "- The Tofolli gate, also known as CCNOT."
   ]
  },
  {
   "cell_type": "markdown",
   "metadata": {
    "slideshow": {
     "slide_type": "skip"
    }
   },
   "source": [
    "<a id = 'aer_simulation'></a>"
   ]
  },
  {
   "cell_type": "markdown",
   "metadata": {
    "slideshow": {
     "slide_type": "slide"
    }
   },
   "source": [
    "# Simulating circuits with Qiskit Aer"
   ]
  },
  {
   "cell_type": "markdown",
   "metadata": {
    "slideshow": {
     "slide_type": "subslide"
    }
   },
   "source": [
    "<div class=\"alert alert-block alert-info\">\n",
    "<p>In version 0.7 <b> Aer </b> was rename to <b> BasicAer </b>. </p>\n",
    "\n",
    "<p><b>Aer</b> will be used to fancier and larger packages.</p>\n",
    "</div>"
   ]
  },
  {
   "cell_type": "markdown",
   "metadata": {
    "slideshow": {
     "slide_type": "fragment"
    }
   },
   "source": [
    "#### Aer vs BasicAer \n",
    "\n",
    "* BasicAer: Terra's built-in suite of pure-python simulators\n",
    "\n",
    "* Aer: Qiskit's suite of high-performance simulators (faster and with noise sophisticated models - aer.noise)\n"
   ]
  },
  {
   "cell_type": "code",
   "execution_count": 10,
   "metadata": {
    "slideshow": {
     "slide_type": "subslide"
    }
   },
   "outputs": [],
   "source": [
    "from qiskit import BasicAer, execute"
   ]
  },
  {
   "cell_type": "markdown",
   "metadata": {
    "slideshow": {
     "slide_type": "fragment"
    }
   },
   "source": [
    "<div class=\"alert alert-block alert-info\">\n",
    "<p>To run the circuit you need to add measurement gates! </p>\n",
    "\n",
    "<p> <b>Note</b>: it is always a good ideia to add barrier before the measurement gates!</p>\n",
    "</div>"
   ]
  },
  {
   "cell_type": "code",
   "execution_count": 11,
   "metadata": {
    "slideshow": {
     "slide_type": "subslide"
    }
   },
   "outputs": [
    {
     "data": {
      "text/html": [
       "<pre style=\"word-wrap: normal;white-space: pre;line-height: 15px;\">            ┌─┐\n",
       "q0_0: |0>───┤M├\n",
       "         ┌─┐└╥┘\n",
       "q0_1: |0>┤M├─╫─\n",
       "         └╥┘ ║ \n",
       " c0_0: 0 ═╬══╩═\n",
       "          ║    \n",
       " c0_1: 0 ═╩════\n",
       "               </pre>"
      ],
      "text/plain": [
       "<qiskit.tools.visualization._text.TextDrawing at 0x1b787ed7e10>"
      ]
     },
     "execution_count": 11,
     "metadata": {},
     "output_type": "execute_result"
    }
   ],
   "source": [
    "qc.measure(qr0, cr0)\n",
    "qc.draw()"
   ]
  },
  {
   "cell_type": "code",
   "execution_count": 12,
   "metadata": {
    "slideshow": {
     "slide_type": "subslide"
    }
   },
   "outputs": [
    {
     "data": {
      "text/plain": [
       "[<QasmSimulatorPy('qasm_simulator') from BasicAer()>,\n",
       " <StatevectorSimulatorPy('statevector_simulator') from BasicAer()>,\n",
       " <UnitarySimulatorPy('unitary_simulator') from BasicAer()>]"
      ]
     },
     "execution_count": 12,
     "metadata": {},
     "output_type": "execute_result"
    }
   ],
   "source": [
    "BasicAer.backends()"
   ]
  },
  {
   "cell_type": "markdown",
   "metadata": {
    "slideshow": {
     "slide_type": "subslide"
    }
   },
   "source": [
    "#### Simulators \n",
    "\n",
    "* statevector_simulator : This is the qasm_simulator with a snapshot at the end\n",
    "  <p> Returns result object containing a dictionary of basis states with complex amplitudes for each</p>\n",
    "* unitary_simulator : Returns a matrix of your circuit!\n",
    "* ibmq_qasm_simulator : a public simulator on an HPC machine run by IBM (Note, this is under the IBMQ provider)"
   ]
  },
  {
   "cell_type": "markdown",
   "metadata": {
    "slideshow": {
     "slide_type": "slide"
    }
   },
   "source": [
    "### Statevector_simulator"
   ]
  },
  {
   "cell_type": "code",
   "execution_count": 13,
   "metadata": {
    "slideshow": {
     "slide_type": "subslide"
    }
   },
   "outputs": [
    {
     "data": {
      "text/html": [
       "<pre style=\"word-wrap: normal;white-space: pre;line-height: 15px;\">         ┌───┐┌─┐\n",
       "q2_0: |0>┤ H ├┤M├\n",
       "         └───┘└╥┘\n",
       "q2_1: |0>──────╫─\n",
       "               ║ \n",
       " c2_0: 0 ══════╩═\n",
       "                 \n",
       " c2_1: 0 ════════\n",
       "                 </pre>"
      ],
      "text/plain": [
       "<qiskit.tools.visualization._text.TextDrawing at 0x1b78834c518>"
      ]
     },
     "execution_count": 13,
     "metadata": {},
     "output_type": "execute_result"
    }
   ],
   "source": [
    "qc_superposition = QuantumCircuit(qr,cr)\n",
    "qc_superposition.h(qr[0])\n",
    "qc_superposition.measure(qr[0],cr[0])\n",
    "qc_superposition.draw()"
   ]
  },
  {
   "cell_type": "code",
   "execution_count": 14,
   "metadata": {
    "slideshow": {
     "slide_type": "subslide"
    }
   },
   "outputs": [
    {
     "data": {
      "image/png": "[encoded data removed]",
      "text/plain": [
       "<Figure size 576x288 with 2 Axes>"
      ]
     },
     "execution_count": 14,
     "metadata": {},
     "output_type": "execute_result"
    }
   ],
   "source": [
    "backend = BasicAer.get_backend(\"statevector_simulator\")\n",
    "\n",
    "# Import plotting tools\n",
    "from qiskit.tools.visualization import plot_bloch_multivector\n",
    "\n",
    "# Plot the Bloch sphere of the qubit state after performing the Hadamard gate\n",
    "result_h = execute(qc_superposition, backend).result()\n",
    "bloch_h= result_h.get_statevector(qc_superposition)\n",
    "plot_bloch_multivector(bloch_h)"
   ]
  },
  {
   "cell_type": "code",
   "execution_count": 15,
   "metadata": {
    "slideshow": {
     "slide_type": "subslide"
    }
   },
   "outputs": [
    {
     "data": {
      "image/png": "[encoded data removed]",
      "text/plain": [
       "<Figure size 576x288 with 2 Axes>"
      ]
     },
     "execution_count": 15,
     "metadata": {},
     "output_type": "execute_result"
    }
   ],
   "source": [
    "# Plot the Bloch sphere of the qubit state after creating entanglement\n",
    "result_bell = execute(qc_multi_qubit, backend).result()\n",
    "bloch_bell= result_bell.get_statevector(qc_multi_qubit)\n",
    "plot_bloch_multivector(bloch_bell)"
   ]
  },
  {
   "cell_type": "markdown",
   "metadata": {
    "slideshow": {
     "slide_type": "slide"
    }
   },
   "source": [
    "### qasm_simulator"
   ]
  },
  {
   "cell_type": "code",
   "execution_count": 16,
   "metadata": {
    "slideshow": {
     "slide_type": "subslide"
    }
   },
   "outputs": [
    {
     "data": {
      "image/png": "[encoded data removed]",
      "text/plain": [
       "<Figure size 504x360 with 1 Axes>"
      ]
     },
     "execution_count": 16,
     "metadata": {},
     "output_type": "execute_result"
    }
   ],
   "source": [
    "backend = BasicAer.get_backend(\"qasm_simulator\")\n",
    "\n",
    "shots = 1024\n",
    "job_bell = execute(qc, backend, shots=shots)\n",
    "\n",
    "from qiskit.tools.visualization import plot_histogram\n",
    "\n",
    "result_bell = job_bell.result()\n",
    "counts_bell = result_bell.get_counts(qc)\n",
    "plot_histogram(counts_bell)"
   ]
  },
  {
   "cell_type": "markdown",
   "metadata": {
    "slideshow": {
     "slide_type": "skip"
    }
   },
   "source": [
    "<a id = 'ibmq_provider'></a>"
   ]
  },
  {
   "cell_type": "markdown",
   "metadata": {
    "slideshow": {
     "slide_type": "slide"
    }
   },
   "source": [
    "# IBM Q Provider: Running in quantum devices "
   ]
  },
  {
   "cell_type": "code",
   "execution_count": 17,
   "metadata": {
    "slideshow": {
     "slide_type": "subslide"
    }
   },
   "outputs": [],
   "source": [
    "from qiskit import IBMQ"
   ]
  },
  {
   "cell_type": "code",
   "execution_count": 18,
   "metadata": {
    "slideshow": {
     "slide_type": "skip"
    }
   },
   "outputs": [],
   "source": [
    "import sys\n",
    "#path to your Qconfig file\n",
    "sys.path.insert(0,'.\\..\\..')\n",
    "\n",
    "import Qconfig_IBM_experience\n",
    "import Qconfig_IBM_network"
   ]
  },
  {
   "cell_type": "code",
   "execution_count": 19,
   "metadata": {
    "slideshow": {
     "slide_type": "fragment"
    }
   },
   "outputs": [
    {
     "name": "stdout",
     "output_type": "stream",
     "text": [
      "Available backends:\n"
     ]
    },
    {
     "data": {
      "text/plain": [
       "[<IBMQBackend('ibmqx4') from IBMQ()>,\n",
       " <IBMQBackend('ibmqx2') from IBMQ()>,\n",
       " <IBMQBackend('ibmq_16_melbourne') from IBMQ()>,\n",
       " <IBMQBackend('ibmq_qasm_simulator') from IBMQ()>,\n",
       " <IBMQBackend('ibmq_20_tokyo') from IBMQ(ibm-q-academic, univ-minho, group-1-test)>,\n",
       " <IBMQBackend('ibmq_qasm_simulator') from IBMQ(ibm-q-academic, univ-minho, group-1-test)>]"
      ]
     },
     "execution_count": 19,
     "metadata": {},
     "output_type": "execute_result"
    }
   ],
   "source": [
    "# Or you can use:\n",
    "IBMQ.enable_account(Qconfig_IBM_experience.APItoken)\n",
    "IBMQ.enable_account(Qconfig_IBM_network.APItoken, Qconfig_IBM_network.url)\n",
    "\n",
    "# IMBQ.load_account()\n",
    "\n",
    "print(\"Available backends:\")\n",
    "IBMQ.backends()"
   ]
  },
  {
   "cell_type": "code",
   "execution_count": 20,
   "metadata": {
    "slideshow": {
     "slide_type": "subslide"
    }
   },
   "outputs": [
    {
     "name": "stdout",
     "output_type": "stream",
     "text": [
      "ibmq_20_tokyo               ibmq_16_melbourne            ibmqx2\n",
      "-------------               -----------------            ------\n",
      "Num. Qubits:  20            Num. Qubits:  14             Num. Qubits:  5\n",
      "Pending Jobs: 0             Pending Jobs: 3              Pending Jobs: 12\n",
      "Least busy:   True          Least busy:   False          Least busy:   False\n",
      "Operational:  True          Operational:  True           Operational:  True\n",
      "Avg. T1:      84.9          Avg. T1:      44.3           Avg. T1:      54.1\n",
      "Avg. T2:      52.4          Avg. T2:      58.4           Avg. T2:      51.1\n",
      "\n",
      "\n",
      "\n",
      "ibmqx4\n",
      "------\n",
      "Num. Qubits:  5\n",
      "Pending Jobs: 70\n",
      "Least busy:   False\n",
      "Operational:  True\n",
      "Avg. T1:      46.5\n",
      "Avg. T2:      18.0\n",
      "\n",
      "\n",
      "\n"
     ]
    }
   ],
   "source": [
    "from qiskit.tools.monitor import backend_overview\n",
    "\n",
    "backend_overview()"
   ]
  },
  {
   "cell_type": "markdown",
   "metadata": {
    "slideshow": {
     "slide_type": "subslide"
    }
   },
   "source": [
    "        from qiskit.tools.jupyter import *\n",
    "\n",
    "        %qiskit_backend_overview\n",
    "        \n",
    "<img src=\"img/overview.png\" alt=\"Note: In order for images to show up in this jupyter notebook you need to select File => Trusted Notebook\" width=\"1000 px\" align=\"center\">\n"
   ]
  },
  {
   "cell_type": "code",
   "execution_count": 21,
   "metadata": {
    "slideshow": {
     "slide_type": "subslide"
    }
   },
   "outputs": [
    {
     "name": "stdout",
     "output_type": "stream",
     "text": [
      "ibmq_20_tokyo\n",
      "=============\n",
      "Configuration\n",
      "-------------\n",
      "    n_qubits: 20\n",
      "    operational: True\n",
      "    status_msg: active\n",
      "    pending_jobs: 0\n",
      "    basis_gates: ['u1', 'u2', 'u3', 'cx', 'id']\n",
      "    local: False\n",
      "    simulator: False\n",
      "    url: None\n",
      "    hamiltonian: {'h_str': [''], 'h_latex': '', 'osc': {}, 'vars': {}}\n",
      "    max_shots: 8192\n",
      "    max_experiments: 900\n",
      "    rep_times: [50, 500, 1000]\n",
      "    description: 20 qubit device Tokyo remapped\n",
      "    u_channel_lo: []\n",
      "    open_pulse: False\n",
      "    online_date: 2018-05-10T04:00:00+00:00\n",
      "    sample_name: Qubert\n",
      "    meas_lo_range: [[6.090508695, 8.090508695], [6.224394221, 8.224394221], [6.098107634, 8.098107634], [6.310698823, 8.310698823], [6.16798539, 8.16798539], [6.297936311, 8.297936311], [6.156332717, 8.156332717], [6.26951458, 8.26951458], [6.20472734, 8.20472734], [6.254023964, 8.254023964], [6.114162303, 8.114162303], [6.225126594, 8.225126593999999], [6.113678533, 8.113678533], [6.310187362, 8.310187362], [6.170311462, 8.170311462], [6.281813827, 8.281813827], [6.153026031, 8.153026031], [6.250792101, 8.250792101], [6.205991134, 8.205991134], [6.243078141, 8.243078141]]\n",
      "    n_uchannels: 0\n",
      "    conditional_latency : []\n",
      "    memory: True\n",
      "    backend_name: ibmq_20_tokyo\n",
      "    n_registers: 1\n",
      "    meas_map: [[0, 1, 2, 3, 4, 5, 6, 7, 8, 9, 10, 11, 12, 13, 14, 15, 16, 17, 18, 19]]\n",
      "    qubit_lo_range: [[4.020067501762439, 6.020067501762439], [3.903282427489163, 5.903282427489163], [3.7783962543304384, 5.778396254330438], [4.093527786038469, 6.093527786038469], [4.10692919980968, 6.10692919980968], [4.142717756347416, 6.142717756347416], [4.033366761918304, 6.033366761918304], [3.4576072443416566, 5.457607244341657], [4.01912082257518, 6.01912082257518], [4.063919500417181, 6.063919500417181], [3.959116103208392, 5.959116103208392], [4.229452075261014, 6.229452075261014], [3.6623744061465073, 5.662374406146507], [3.8981263538949324, 5.8981263538949324], [4.233370872207139, 6.233370872207139], [3.4905803351448954, 5.490580335144895], [4.074888522327484, 6.074888522327484], [3.984891701312036, 5.984891701312036], [4.109579538918815, 6.109579538918815], [4.12498360536302, 6.12498360536302]]\n",
      "    discriminators: ['linear_discriminator', 'quadratic_discriminator']\n",
      "    credits_required: True\n",
      "    meas_kernels: ['boxcar']\n",
      "    dt: 3.5555555555555554e-09\n",
      "    defaults: {'buffer': 1, 'qubit_freq_est': [5.020067501762439, 4.903282427489163, 4.778396254330438, 5.093527786038469, 5.10692919980968, 5.142717756347416, 5.033366761918304, 4.457607244341657, 5.01912082257518, 5.063919500417181, 4.959116103208392, 5.229452075261014, 4.662374406146507, 4.8981263538949324, 5.233370872207139, 4.490580335144895, 5.074888522327484, 4.984891701312036, 5.109579538918815, 5.12498360536302], 'discriminator': {'params': {'neighborhoods': [{'channels': 1, 'qubits': 1}, {'channels': 2, 'qubits': 2}, {'channels': 4, 'qubits': 4}, {'channels': 8, 'qubits': 8}, {'channels': 16, 'qubits': 16}, {'channels': 32, 'qubits': 32}, {'channels': 64, 'qubits': 64}, {'channels': 128, 'qubits': 128}, {'channels': 256, 'qubits': 256}, {'channels': 512, 'qubits': 512}, {'channels': 1024, 'qubits': 1024}, {'channels': 2048, 'qubits': 2048}, {'channels': 4096, 'qubits': 4096}, {'channels': 8192, 'qubits': 8192}, {'channels': 16384, 'qubits': 16384}, {'channels': 32768, 'qubits': 32768}, {'channels': 65536, 'qubits': 65536}, {'channels': 131072, 'qubits': 131072}, {'channels': 262144, 'qubits': 262144}, {'channels': 524288, 'qubits': 524288}], 'resample': False, 'cal': 'coloring'}, 'name': 'linear_discriminator'}, 'meas_kernel': {'params': {}, 'name': 'boxcar'}, 'meas_freq_est': [7.090508695, 7.224394221, 7.098107634, 7.310698823, 7.16798539, 7.297936311, 7.156332717, 7.26951458, 7.20472734, 7.254023964, 7.114162303, 7.225126594, 7.113678533, 7.310187362, 7.170311462, 7.281813827, 7.153026031, 7.250792101, 7.205991134, 7.243078141]}\n",
      "    meas_levels: [1, 2]\n",
      "    backend_version: 1.1.1\n",
      "    acquisition_latency : []\n",
      "    conditional: False\n",
      "    coupling_map: [[0, 1], [0, 5], [1, 0], [1, 2], [1, 6], [1, 7], [2, 1], [2, 6], [3, 8], [3, 9], [4, 8], [4, 9], [5, 0], [5, 6], [5, 10], [5, 11], [6, 1], [6, 2], [6, 5], [6, 7], [6, 10], [6, 11], [7, 1], [7, 6], [7, 8], [7, 12], [8, 3], [8, 4], [8, 7], [8, 9], [8, 12], [8, 13], [9, 3], [9, 4], [9, 8], [10, 5], [10, 6], [10, 11], [10, 15], [11, 5], [11, 6], [11, 10], [11, 12], [11, 16], [11, 17], [12, 7], [12, 8], [12, 11], [12, 13], [12, 16], [13, 8], [13, 12], [13, 14], [13, 18], [13, 19], [14, 13], [14, 18], [14, 19], [15, 10], [15, 16], [16, 11], [16, 12], [16, 15], [16, 17], [17, 11], [17, 16], [17, 18], [18, 13], [18, 14], [18, 17], [19, 13], [19, 14]]\n",
      "    dtm: 3.5555555555555554e-09\n",
      "    allow_q_object: True\n",
      "\n",
      "Qubits [Name / Freq / T1 / T2 / U1 err / U2 err / U3 err / Readout err]\n",
      "-----------------------------------------------------------------------\n",
      "    Q0 / 5.02007 GHz / 99.65378 µs / 61.77674 µs / 0.0 / 0.00111 / 0.00222 / 0.036\n",
      "    Q1 / 4.90328 GHz / 100.76664 µs / 62.67197 µs / 0.0 / 0.00069 / 0.00138 / 0.032\n",
      "    Q2 / 4.7784 GHz / 69.0954 µs / 27.62641 µs / 0.0 / 0.00383 / 0.00767 / 0.148\n",
      "    Q3 / 5.09353 GHz / 46.06596 µs / 36.56571 µs / 0.0 / 0.00598 / 0.01197 / 0.078\n",
      "    Q4 / 5.10693 GHz / 42.19816 µs / 33.1889 µs / 0.0 / 0.00242 / 0.00483 / 0.06\n",
      "    Q5 / 5.14272 GHz / 64.20665 µs / 41.16508 µs / 0.0 / 0.00106 / 0.00212 / 0.04\n",
      "    Q6 / 5.03337 GHz / 59.59677 µs / 50.79822 µs / 0.0 / 0.00064 / 0.00128 / 0.044\n",
      "    Q7 / 4.45761 GHz / 117.41439 µs / 81.48322 µs / 0.0 / 0.0013 / 0.00261 / 0.094\n",
      "    Q8 / 5.01912 GHz / 74.25939 µs / 72.95396 µs / 0.0 / 0.00065 / 0.00129 / 0.07\n",
      "    Q9 / 5.06392 GHz / 68.2767 µs / 28.15752 µs / 0.0 / 0.0019 / 0.0038 / 0.11\n",
      "    Q10 / 4.95912 GHz / 36.02231 µs / 55.3967 µs / 0.0 / 0.00145 / 0.0029 / 0.151\n",
      "    Q11 / 5.22945 GHz / 90.00979 µs / 54.42577 µs / 0.0 / 0.00157 / 0.00315 / 0.04\n",
      "    Q12 / 4.66237 GHz / 164.71292 µs / 66.6857 µs / 0.0 / 0.00167 / 0.00334 / 0.221\n",
      "    Q13 / 4.89813 GHz / 176.77397 µs / 56.64584 µs / 0.0 / 0.00067 / 0.00135 / 0.046\n",
      "    Q14 / 5.23337 GHz / 59.22565 µs / 50.05286 µs / 0.0 / 0.00114 / 0.00228 / 0.043\n",
      "    Q15 / 4.49058 GHz / 98.9016 µs / 70.52272 µs / 0.0 / 0.00091 / 0.00182 / 0.036\n",
      "    Q16 / 5.07489 GHz / 56.75864 µs / 56.39144 µs / 0.0 / 0.00104 / 0.00208 / 0.054\n",
      "    Q17 / 4.98489 GHz / 94.75281 µs / 58.22554 µs / 0.0 / 0.00088 / 0.00177 / 0.068\n",
      "    Q18 / 5.10958 GHz / 86.71375 µs / 60.6034 µs / 0.0 / 0.00218 / 0.00437 / 0.065\n",
      "    Q19 / 5.12498 GHz / 92.25901 µs / 23.52315 µs / 0.0 / 0.00233 / 0.00467 / 0.052\n",
      "\n",
      "Multi-Qubit Gates [Name / Type / Gate Error]\n",
      "--------------------------------------------\n",
      "    CX0_1 / cx / 0.0129\n",
      "    CX0_5 / cx / 0.02016\n",
      "    CX1_0 / cx / 0.0129\n",
      "    CX1_2 / cx / 0.02398\n",
      "    CX1_6 / cx / 0.01449\n",
      "    CX1_7 / cx / 0.02843\n",
      "    CX2_1 / cx / 0.02398\n",
      "    CX2_6 / cx / 0.03133\n",
      "    CX3_8 / cx / 0.02371\n",
      "    CX3_9 / cx / 0.03823\n",
      "    CX4_8 / cx / 0.0247\n",
      "    CX4_9 / cx / 0.03356\n",
      "    CX5_0 / cx / 0.02016\n",
      "    CX5_6 / cx / 0.01986\n",
      "    CX5_10 / cx / 0.02421\n",
      "    CX5_11 / cx / 0.02812\n",
      "    CX6_1 / cx / 0.01449\n",
      "    CX6_2 / cx / 0.03133\n",
      "    CX6_5 / cx / 0.01986\n",
      "    CX6_7 / cx / 0.03973\n",
      "    CX6_10 / cx / 0.01951\n",
      "    CX6_11 / cx / 0.0227\n",
      "    CX7_1 / cx / 0.02843\n",
      "    CX7_6 / cx / 0.03973\n",
      "    CX7_8 / cx / 0.03789\n",
      "    CX7_12 / cx / 0.02247\n",
      "    CX8_3 / cx / 0.02371\n",
      "    CX8_4 / cx / 0.0247\n",
      "    CX8_7 / cx / 0.03789\n",
      "    CX8_9 / cx / 0.02477\n",
      "    CX8_12 / cx / 0.03454\n",
      "    CX8_13 / cx / 0.02319\n",
      "    CX9_3 / cx / 0.03823\n",
      "    CX9_4 / cx / 0.03356\n",
      "    CX9_8 / cx / 0.02477\n",
      "    CX10_5 / cx / 0.02421\n",
      "    CX10_6 / cx / 0.01951\n",
      "    CX10_11 / cx / 0.04058\n",
      "    CX10_15 / cx / 0.02648\n",
      "    CX11_5 / cx / 0.02812\n",
      "    CX11_6 / cx / 0.0227\n",
      "    CX11_10 / cx / 0.04058\n",
      "    CX11_12 / cx / 0.06593\n",
      "    CX11_16 / cx / 0.03374\n",
      "    CX11_17 / cx / 0.02973\n",
      "    CX12_7 / cx / 0.02247\n",
      "    CX12_8 / cx / 0.03454\n",
      "    CX12_11 / cx / 0.06593\n",
      "    CX12_13 / cx / 0.0208\n",
      "    CX12_16 / cx / 0.03991\n",
      "    CX13_8 / cx / 0.02319\n",
      "    CX13_12 / cx / 0.0208\n",
      "    CX13_14 / cx / 0.03256\n",
      "    CX13_18 / cx / 0.02737\n",
      "    CX13_19 / cx / 0.01978\n",
      "    CX14_13 / cx / 0.03256\n",
      "    CX14_18 / cx / 0.02109\n",
      "    CX14_19 / cx / 0.01666\n",
      "    CX15_10 / cx / 0.02648\n",
      "    CX15_16 / cx / 0.03067\n",
      "    CX16_11 / cx / 0.03374\n",
      "    CX16_12 / cx / 0.03991\n",
      "    CX16_15 / cx / 0.03067\n",
      "    CX16_17 / cx / 0.01912\n",
      "    CX17_11 / cx / 0.02973\n",
      "    CX17_16 / cx / 0.01912\n",
      "    CX17_18 / cx / 0.02422\n",
      "    CX18_13 / cx / 0.02737\n",
      "    CX18_14 / cx / 0.02109\n",
      "    CX18_17 / cx / 0.02422\n",
      "    CX19_13 / cx / 0.01978\n",
      "    CX19_14 / cx / 0.01666\n"
     ]
    }
   ],
   "source": [
    "from qiskit.tools.monitor import backend_monitor\n",
    "\n",
    "backend = IBMQ.get_backend('ibmq_20_tokyo')\n",
    "\n",
    "backend_monitor(backend)"
   ]
  },
  {
   "cell_type": "markdown",
   "metadata": {
    "slideshow": {
     "slide_type": "subslide"
    }
   },
   "source": [
    "        from qiskit.tools.jupyter import *\n",
    "\n",
    "        %qiskit_backend_monitor\n",
    "        \n",
    "<img src=\"img/backend_monitor.png\" alt=\"Note: In order for images to show up in this jupyter notebook you need to select File => Trusted Notebook\" width=\"1000 px\" align=\"center\">\n"
   ]
  },
  {
   "cell_type": "code",
   "execution_count": 22,
   "metadata": {
    "hideOutput": true,
    "slideshow": {
     "slide_type": "subslide"
    }
   },
   "outputs": [
    {
     "data": {
      "application/vnd.jupyter.widget-view+json": {
       "model_id": "ac0d90e4254541daa0d4e88ea3d99e2b",
       "version_major": 2,
       "version_minor": 0
      },
      "text/plain": [
       "HTML(value=\"<p style='font-size:16px;'>Job Status: job is being initialized </p>\")"
      ]
     },
     "metadata": {},
     "output_type": "display_data"
    }
   ],
   "source": [
    "shots = 1024       # Number of shots to run the program (experiment); maximum is 8192 shots.\n",
    "job_exp = execute(qc, backend, shots = shots)\n",
    "\n",
    "from qiskit.tools.monitor import job_monitor\n",
    "\n",
    "job_monitor(job_exp, interval=5)"
   ]
  },
  {
   "cell_type": "code",
   "execution_count": 23,
   "metadata": {
    "slideshow": {
     "slide_type": "fragment"
    }
   },
   "outputs": [
    {
     "name": "stdout",
     "output_type": "stream",
     "text": [
      "JOB ID: 5c9e455b49f7c50050a3d825\n"
     ]
    },
    {
     "data": {
      "text/plain": [
       "{'00': 997, '01': 19, '10': 8}"
      ]
     },
     "execution_count": 23,
     "metadata": {},
     "output_type": "execute_result"
    }
   ],
   "source": [
    "# job_id allows you to retrive old jobs\n",
    "jobID = job_exp.job_id()\n",
    "\n",
    "print('JOB ID: {}'.format(jobID))\n",
    "\n",
    "job_get=backend.retrieve_job(jobID)\n",
    "job_get.result().get_counts(qc)"
   ]
  },
  {
   "cell_type": "code",
   "execution_count": 24,
   "metadata": {
    "slideshow": {
     "slide_type": "subslide"
    }
   },
   "outputs": [
    {
     "data": {
      "image/png": "[encoded data removed]",
      "text/plain": [
       "<Figure size 504x360 with 1 Axes>"
      ]
     },
     "execution_count": 24,
     "metadata": {},
     "output_type": "execute_result"
    }
   ],
   "source": [
    "# We recommend increasing the timeout to 30 minutes to avoid timeout errors when the queue is long.\n",
    "result_real = job_exp.result(timeout=3600, wait=5)\n",
    "counts = result_real.get_counts(qc)\n",
    "plot_histogram(counts)"
   ]
  },
  {
   "cell_type": "code",
   "execution_count": 25,
   "metadata": {
    "slideshow": {
     "slide_type": "subslide"
    }
   },
   "outputs": [
    {
     "data": {
      "image/png": "[encoded data removed]",
      "text/plain": [
       "<Figure size 504x360 with 1 Axes>"
      ]
     },
     "execution_count": 25,
     "metadata": {},
     "output_type": "execute_result"
    }
   ],
   "source": [
    "title = 'bell state'\n",
    "legend = ['run in real device results', 'simulation results']\n",
    "\n",
    "\n",
    "plot_histogram([counts, counts_bell], legend = legend, title= title)"
   ]
  },
  {
   "cell_type": "markdown",
   "metadata": {
    "slideshow": {
     "slide_type": "skip"
    }
   },
   "source": [
    "<a id ='Deutsch'></a>"
   ]
  },
  {
   "cell_type": "markdown",
   "metadata": {
    "slideshow": {
     "slide_type": "slide"
    }
   },
   "source": [
    "# Deutsch-Josza Algorithm "
   ]
  },
  {
   "cell_type": "markdown",
   "metadata": {
    "slideshow": {
     "slide_type": "subslide"
    }
   },
   "source": [
    "### Problem formulation\n",
    "\n",
    "Consider a function $f: \\{0,1\\}^n \\rightarrow \\{0,1\\}$ that maps an array of $n$  bits into either 0 or 1. We do not know the logic behind it. We know that it is either constant or balanced:\n",
    "- **Constant**: its output is always 0 or always 1\n",
    "- **Balanced**: outputs 0 for half the input value and 1 for the other half\n",
    "\n",
    "\n",
    "For the case that $n=1$ we have $f: \\{0,1\\} \\rightarrow \\{0,1\\}$ that maps a single bit into either 0 or 1. If we are given a black box, an **oracle**, that takes as input this two bits and outputs the unknown value.\n",
    "<center>\n",
    "<img src=\"files/img/c_oracle.png\" alt=\"Note: In order for images to show up in this jupyter notebook you need to select File => Trusted Notebook\" width=\"400 px\">\n",
    "</center>\n",
    "\n",
    "To answer this question classically, we would always need two function invocations. We could do $f(0)$ and $f(1)$ and see if it is either constant or balanced. "
   ]
  },
  {
   "cell_type": "markdown",
   "metadata": {
    "slideshow": {
     "slide_type": "subslide"
    }
   },
   "source": [
    "Before transforming it into a quantum problem, we need our black box to be an oracle which allows for **reversible computation**, like so:\n",
    "\n",
    "<center>\n",
    "<img src=\"files/img/q_oracle.png\" alt=\"Note: In order for images to show up in this jupyter notebook you need to select File => Trusted Notebook\" width=\"400 px\" >\n",
    "</center>"
   ]
  },
  {
   "cell_type": "markdown",
   "metadata": {
    "slideshow": {
     "slide_type": "subslide"
    }
   },
   "source": [
    "### Algorithm\n",
    "\n",
    "\n",
    "Let us imagine the following procedure:\n",
    "- We begin with two qubits, q0 in state $|0\\rangle$ and q1 in state $|1\\rangle$ ($|01\\rangle$).\n",
    "\n",
    "- We apply a Hadamard to each qubit, the result is $\\frac{1}{2}(|00\\rangle - |01\\rangle + |10\\rangle - |11\\rangle)$\n",
    "\n",
    "- We now call our oracle, which maps $|ab\\rangle$ or $|a\\rangle |b\\rangle$ (easier to interpret) into $|a\\rangle |b \\oplus f(a)\\rangle$ the result is:\n",
    "\n",
    "$$\\frac{1}{2}( \\; |0\\rangle |0\\oplus f(0)\\rangle - |0\\rangle |1\\oplus f(0)\\rangle + |1\\rangle |0\\oplus f(1)\\rangle - |1 \\rangle |1\\oplus f(1)\\rangle \\;)$$"
   ]
  },
  {
   "cell_type": "markdown",
   "metadata": {
    "slideshow": {
     "slide_type": "subslide"
    }
   },
   "source": [
    "We can now use the following equivalence:\n",
    "\n",
    "$$|0 \\oplus a\\rangle - |1 \\oplus a\\rangle =  (-1)^a(|0\\rangle - |1\\rangle)$$\n",
    "\n",
    "To replace above and get:\n",
    "\n",
    "$$\\frac{1}{2}(|0\\rangle \\; [(-1)^{f(0)}(|0\\rangle - |1\\rangle)]\\; +\\; |1\\rangle \\;[(-1)^{f(1)}(|0\\rangle - |1\\rangle)])$$\n",
    "\n",
    "This quantum state can be separated into the product state:\n",
    "\n",
    "$$ [\\frac{1}{\\sqrt{2}} (-1)^{f(0)} | 0 \\rangle + \\frac{1}{\\sqrt{2}} (-1)^{f(1)}| 1 \\rangle] \\; \\otimes \\; [\\frac{1}{\\sqrt{2}} | 0 \\rangle - \\frac{1}{\\sqrt{2}} | 1 \\rangle] $$\n",
    "\n",
    "Our second qubit can be ignored, and what remains is our first qubit, which contains both $f(0)$ and $f(1)$ - both images of $f$ with a single pass over the oracle. This can further be simplified as:\n",
    "\n",
    "$$(-1)^{f(0)}(\\frac{1}{\\sqrt{2}} | 0 \\rangle + \\frac{1}{\\sqrt{2}} (-1)^{f(0) \\oplus f(1)} | 1 \\rangle)$$\n",
    "\n",
    "\n",
    "Lastly, we apply a Hadamard gate on our qubit and we arrive at:\n",
    "\n",
    "$$(-1)^{f(0)} |f(0) \\oplus f(1)\\rangle$$\n",
    "\n",
    "What is the meaning of this?\n",
    "- if f is constant ($00$ or $11$) $\\rightarrow$ output is $0$ (xor is 0)\n",
    "- if f is balanced ($01$ or $10$) $\\rightarrow$ output is $\\pm 1$ (xor is 1)\n",
    "\n",
    "Which, in fact, means that we can do a *single pass* over the oracle gate discover whether it is constant or balanced, an impossible feat in classical computing. "
   ]
  },
  {
   "cell_type": "markdown",
   "metadata": {
    "slideshow": {
     "slide_type": "subslide"
    }
   },
   "source": [
    "Generalizing for a function $f: \\{0,1\\}^n \\rightarrow \\{0,1\\}$, a classical algorithm would need $2^{n-1}+1$ passes, while a quantum function would still require 1 pass.\n",
    "\n",
    "<center>\n",
    "<img src=\"files/img/q_oraclen.png\" alt=\"Note: In order for images to show up in this jupyter notebook you need to select File => Trusted Notebook\" width=\"500 px\">\n",
    "</center>\n",
    "\n",
    "Deutsch-Josza's algorithm illustrates the notion of **quantum parallelism**: a quantum register has the ability to exist in a superposition of base states - each one may be thought of as a single argument to a function. A function performed on the register in a superposition of states is thus performed on each of the components of the superposition, _while only being applied once_."
   ]
  },
  {
   "cell_type": "code",
   "execution_count": 26,
   "metadata": {
    "slideshow": {
     "slide_type": "subslide"
    }
   },
   "outputs": [
    {
     "data": {
      "image/png": "[encoded data removed]",
      "text/plain": [
       "<Figure size 782.6x319.06 with 1 Axes>"
      ]
     },
     "execution_count": 26,
     "metadata": {},
     "output_type": "execute_result"
    }
   ],
   "source": [
    "# Create a quantum circuit with 3 qubits and 2 bits\n",
    "qr = QuantumRegister(3)\n",
    "cr = ClassicalRegister(2)\n",
    "qc = QuantumCircuit(qr,cr)\n",
    "# Flip ancilla qubit to |1>\n",
    "qc.x(qr[2])\n",
    "# Apply Hadamard gate to the whole register\n",
    "qc.h(qr)\n",
    "# Oracle\n",
    "qc.barrier()\n",
    "qc.cx(qr[0],qr[2])\n",
    "qc.cx(qr[1],qr[2])\n",
    "qc.barrier()\n",
    "# Return qubits to the computational basis\n",
    "qc.h(qr[0])\n",
    "qc.h(qr[1])\n",
    "# Measure\n",
    "qc.measure(qr[0], cr[0])\n",
    "qc.measure(qr[1], cr[1])\n",
    "qc.draw(output='mpl')"
   ]
  },
  {
   "cell_type": "code",
   "execution_count": 27,
   "metadata": {
    "scrolled": true,
    "slideshow": {
     "slide_type": "subslide"
    }
   },
   "outputs": [],
   "source": [
    "backend = BasicAer.get_backend(\"qasm_simulator\")\n",
    "\n",
    "shots = 1024\n",
    "job_DJ_s = execute(qc, backend, shots=shots)\n",
    "\n",
    "result_DJ_s = job_DJ_s.result()\n",
    "counts_DJ_sim = result_DJ_s.get_counts(qc)"
   ]
  },
  {
   "cell_type": "code",
   "execution_count": 28,
   "metadata": {
    "slideshow": {
     "slide_type": "fragment"
    }
   },
   "outputs": [
    {
     "name": "stdout",
     "output_type": "stream",
     "text": [
      "JOB ID: 5c9e46bb54ca3d0062df21cb\n"
     ]
    }
   ],
   "source": [
    "backend = IBMQ.get_backend('ibmq_20_tokyo')\n",
    "\n",
    "shots = 1024\n",
    "job_DJ_r = execute(qc, backend, shots=shots)\n",
    "\n",
    "jobID_DJ_r = job_DJ_r.job_id()\n",
    "\n",
    "print('JOB ID: {}'.format(jobID_DJ_r))"
   ]
  },
  {
   "cell_type": "code",
   "execution_count": 29,
   "metadata": {
    "slideshow": {
     "slide_type": "fragment"
    }
   },
   "outputs": [],
   "source": [
    "job_get=backend.retrieve_job(jobID_DJ_r)\n",
    "result_DJ_r = job_get.result()\n",
    "counts_DJ_run = result_DJ_r.get_counts(qc)"
   ]
  },
  {
   "cell_type": "code",
   "execution_count": 30,
   "metadata": {
    "slideshow": {
     "slide_type": "subslide"
    }
   },
   "outputs": [
    {
     "data": {
      "image/png": "[encoded data removed]",
      "text/plain": [
       "<Figure size 504x360 with 1 Axes>"
      ]
     },
     "execution_count": 30,
     "metadata": {},
     "output_type": "execute_result"
    }
   ],
   "source": [
    "plot_histogram([counts_DJ_run, counts_DJ_sim ], legend=[ 'run in real device', 'ideal'])"
   ]
  },
  {
   "cell_type": "markdown",
   "metadata": {
    "slideshow": {
     "slide_type": "skip"
    }
   },
   "source": [
    "<a id = 'ignis'></a>"
   ]
  },
  {
   "cell_type": "markdown",
   "metadata": {
    "slideshow": {
     "slide_type": "slide"
    }
   },
   "source": [
    "# Ignis \n",
    "\n",
    "<img src=\"files/img/ignis_overview.png\" alt=\"Note: In order for images to show up in this jupyter notebook you need to select File => Trusted Notebook\" width=\"1000 px\" align=\"center\">"
   ]
  },
  {
   "cell_type": "code",
   "execution_count": 31,
   "metadata": {
    "slideshow": {
     "slide_type": "subslide"
    }
   },
   "outputs": [],
   "source": [
    "from qiskit.ignis.mitigation.measurement import ( complete_meas_cal, CompleteMeasFitter, MeasurementFilter )"
   ]
  },
  {
   "cell_type": "code",
   "execution_count": 32,
   "metadata": {
    "slideshow": {
     "slide_type": "fragment"
    }
   },
   "outputs": [],
   "source": [
    "# Generate the calibration circuits\n",
    "qr = QuantumRegister(3)\n",
    "meas_calibs, state_labels = complete_meas_cal(qubit_list=[0,1], qr=qr, circlabel='mcal')"
   ]
  },
  {
   "cell_type": "code",
   "execution_count": 33,
   "metadata": {
    "slideshow": {
     "slide_type": "fragment"
    }
   },
   "outputs": [
    {
     "data": {
      "text/plain": [
       "['00', '01', '10', '11']"
      ]
     },
     "execution_count": 33,
     "metadata": {},
     "output_type": "execute_result"
    }
   ],
   "source": [
    "state_labels"
   ]
  },
  {
   "cell_type": "code",
   "execution_count": 34,
   "metadata": {
    "hidePrompt": false,
    "slideshow": {
     "slide_type": "fragment"
    }
   },
   "outputs": [],
   "source": [
    "job_ignis = execute(meas_calibs, backend=backend, shots=1000)\n",
    "cal_results = job_ignis.result()"
   ]
  },
  {
   "cell_type": "code",
   "execution_count": 35,
   "metadata": {
    "hidePrompt": false,
    "slideshow": {
     "slide_type": "subslide"
    }
   },
   "outputs": [
    {
     "name": "stdout",
     "output_type": "stream",
     "text": [
      "[[0.967 0.122 0.055 0.015]\n",
      " [0.015 0.86  0.001 0.04 ]\n",
      " [0.016 0.003 0.934 0.153]\n",
      " [0.002 0.015 0.01  0.792]]\n"
     ]
    }
   ],
   "source": [
    "# The calibration matrix without noise is the identity matrix\n",
    "meas_fitter = CompleteMeasFitter(cal_results, state_labels, circlabel='mcal')\n",
    "print(meas_fitter.cal_matrix)"
   ]
  },
  {
   "cell_type": "code",
   "execution_count": 36,
   "metadata": {
    "hidePrompt": false,
    "slideshow": {
     "slide_type": "fragment"
    }
   },
   "outputs": [
    {
     "data": {
      "image/png": "[encoded data removed]",
      "text/plain": [
       "<Figure size 432x288 with 2 Axes>"
      ]
     },
     "metadata": {},
     "output_type": "display_data"
    }
   ],
   "source": [
    "# Plot the calibration matrix\n",
    "meas_fitter.plot_calibration()"
   ]
  },
  {
   "cell_type": "markdown",
   "metadata": {
    "slideshow": {
     "slide_type": "subslide"
    }
   },
   "source": [
    "#### The fidelity of the target in the original and the adapted circuit"
   ]
  },
  {
   "cell_type": "code",
   "execution_count": 37,
   "metadata": {
    "hidePrompt": false,
    "slideshow": {
     "slide_type": "fragment"
    }
   },
   "outputs": [
    {
     "name": "stdout",
     "output_type": "stream",
     "text": [
      "Average Measurement Fidelity: 0.888250\n",
      "Average Measurement Fidelity of Q0: 0.963250\n",
      "Average Measurement Fidelity of Q1: 0.919750\n"
     ]
    }
   ],
   "source": [
    "# What is the measurement fidelity?\n",
    "print(\"Average Measurement Fidelity: %f\" % meas_fitter.readout_fidelity())\n",
    "\n",
    "# What is the measurement fidelity of Q0? - target of the adapted circuit\n",
    "print(\"Average Measurement Fidelity of Q0: %f\" % meas_fitter.readout_fidelity(\n",
    "    label_list = [['00','01'],['10','11']]))\n",
    "\n",
    "# What is the measurement fidelity of Q1? - target of the original circuit\n",
    "print(\"Average Measurement Fidelity of Q1: %f\" % meas_fitter.readout_fidelity(\n",
    "    label_list = [['00','10'],['01','11']]))"
   ]
  },
  {
   "cell_type": "markdown",
   "metadata": {
    "slideshow": {
     "slide_type": "subslide"
    }
   },
   "source": [
    "#### Applying Calibration "
   ]
  },
  {
   "cell_type": "code",
   "execution_count": 38,
   "metadata": {
    "hidePrompt": false,
    "slideshow": {
     "slide_type": "fragment"
    }
   },
   "outputs": [],
   "source": [
    "# Get the filter object\n",
    "meas_filter = meas_fitter.filter"
   ]
  },
  {
   "cell_type": "code",
   "execution_count": 39,
   "metadata": {
    "hidePrompt": false,
    "slideshow": {
     "slide_type": "fragment"
    }
   },
   "outputs": [],
   "source": [
    "# Results of X3 with mitigation\n",
    "mitigated_results = meas_filter.apply(result_DJ_r)\n",
    "mitigated_counts = mitigated_results.get_counts(0)"
   ]
  },
  {
   "cell_type": "code",
   "execution_count": 40,
   "metadata": {
    "hidePrompt": false,
    "slideshow": {
     "slide_type": "subslide"
    }
   },
   "outputs": [
    {
     "data": {
      "image/png": "[encoded data removed]",
      "text/plain": [
       "<Figure size 504x360 with 1 Axes>"
      ]
     },
     "execution_count": 40,
     "metadata": {},
     "output_type": "execute_result"
    }
   ],
   "source": [
    "plot_histogram([counts_DJ_sim, counts_DJ_run, mitigated_counts], legend=['ideal', 'raw', 'mitigated'])"
   ]
  }
 ],
 "metadata": {
  "anaconda-cloud": {},
  "celltoolbar": "Slideshow",
  "kernelspec": {
   "display_name": "Python 3",
   "language": "python",
   "name": "python3"
  },
  "language_info": {
   "codemirror_mode": {
    "name": "ipython",
    "version": 3
   },
   "file_extension": ".py",
   "mimetype": "text/x-python",
   "name": "python",
   "nbconvert_exporter": "python",
   "pygments_lexer": "ipython3",
   "version": "3.6.4"
  }
 },
 "nbformat": 4,
 "nbformat_minor": 1
}
