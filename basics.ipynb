{
 "cells": [
  {
   "cell_type": "markdown",
   "metadata": {
    "slideshow": {
     "slide_type": "slide"
    }
   },
   "source": [
    "<img src=\"img/qiskit-heading.png\" alt=\"Note: In order for images to show up in this jupyter notebook you need to select File => Trusted Notebook\" width=\"500 px\" align=\"center\">\n",
    "\n",
    "\n",
    "# Hands-on  introduction to Qiskit\n",
    "\n",
    "## University of Minho\n",
    "\n",
    "### Afonso Rodrigues and Ana Neri"
   ]
  },
  {
   "cell_type": "markdown",
   "metadata": {
    "slideshow": {
     "slide_type": "slide"
    }
   },
   "source": [
    "<!-- Here, we provide an overview of working with Qiskit. Qiskit provides the basic building blocks necessary to program quantum computers. --> \n",
    "\n",
    "\n",
    "### The \"big picture\"\n",
    "\n",
    "<img src=\"img/qiskit_components.png\" alt=\"Note: In order for images to show up in this jupyter notebook you need to select File => Trusted Notebook\" width=\"1000 px\" align=\"center\">\n",
    "\n",
    "\n",
    "<!-- este texto como uma nota e não em slides -->\n",
    "\n",
    "<!-- The foundation of Qiskit is the **Terra** element. The basic concept of Qiskit Terra is an array of quantum circuits. A workflow using Terra consists of two stages: **Build** and **Execute**. **Build** allows you to make different quantum circuits that represent the problem you are solving, and **Execute** allows you to run them on different backends.  After the jobs have been run, the data is collected. There are methods for putting this data together, depending on the program. This either gives you the answer you wanted, or allows you to make a better program for the next instance. -->\n",
    "\n",
    "<!-- **Aqua** is where algorithms for NISQ computers are built. These algorithms can be used to build applications for quantum computing. Aqua is accessible to domain experts in chemistry, optimization or AI, who want to explore the benefits of using quantum computers as accelerators for specific computational tasks, without needing to worry about how to translate the problem into the language of quantum machines. -->\n",
    "\n",
    "<!-- With **Aer** it is possible to access high-quality, high-performance simulators and continue to improve their scalability and features. Aer will help us understand the limits of classical processors by demonstrating to what extent they can mimic quantum computation. Furthermore, we can use Aer to verify that current and near-future quantum computers function correctly. -->\n",
    "\n",
    "<!-- **Ignis** is a framework for understanding and mitigating noise in quantum circuits and devices. Ignis provides self-contained experiments that include tools for generating the circuits that can be executed on real backends via Terra (or on simulators via Aer) and the tools for fitting the results and analysing the data. -->"
   ]
  },
  {
   "cell_type": "markdown",
   "metadata": {
    "slideshow": {
     "slide_type": "slide"
    }
   },
   "source": [
    "# para alterar\n",
    "# Contents\n",
    "\n",
    "* [Recall the theory](#theory)\n",
    "* [First Quantum Circuit](#firstQC)\n",
    "* [Simulating circuits with Qiskit Aer](#aer_simulation)\n",
    "* [Running circuits using the IBMQ provider](#ibmq_provider)\n",
    "\n",
    "\n",
    "<!--[Summary of quantum operations](#quantum_operations)-->\n",
    "\n",
    "<!--[Circuit basics](#circuit_basics)-->\n",
    "\n",
    "<!--[Simulating circuits with Qiskit Aer](#aer_simulation)-->\n",
    "\n",
    "<!--[Running circuits using the IBMQ provider](#ibmq_provider)-->\n",
    "\n",
    "[Practical exercises](#exercises)"
   ]
  },
  {
   "cell_type": "markdown",
   "metadata": {
    "slideshow": {
     "slide_type": "skip"
    }
   },
   "source": [
    "<a id = 'theory'></a>"
   ]
  },
  {
   "cell_type": "markdown",
   "metadata": {
    "slideshow": {
     "slide_type": "slide"
    }
   },
   "source": [
    "## Recall the theory"
   ]
  },
  {
   "cell_type": "markdown",
   "metadata": {
    "slideshow": {
     "slide_type": "subslide"
    }
   },
   "source": [
    "<!-- ## Single Qubit Quantum states -->\n",
    "\n",
    "A single qubit quantum state <!-- can be written as -->\n",
    "\n",
    "$$|\\psi\\rangle = \\alpha|0\\rangle + \\beta |1\\rangle$$\n",
    "\n",
    "\n",
    "<!-- where $\\alpha$ and $\\beta$ are complex numbers. In a measurement the probability of the bit being in $|0\\rangle$ is $|\\alpha|^2$ and $|1\\rangle$ is $|\\beta|^2$.--> As a vector this is\n",
    "\n",
    "$$\n",
    "|\\psi\\rangle =  \n",
    "\\begin{pmatrix}\n",
    "\\alpha \\\\\n",
    "\\beta\n",
    "\\end{pmatrix}.\n",
    "$$\n",
    "\n",
    "<!-- Note due to conservation probability $|\\alpha|^2+ |\\beta|^2 = 1$ and since global phase is undetectable $|\\psi\\rangle := e^{i\\delta} |\\psi\\rangle$ we only require two real numbers to describe a single qubit quantum state. -->\n",
    "\n",
    "<!-- A convenient representation is -->\n",
    "Another representation is\n",
    "\n",
    "$$|\\psi\\rangle = \\cos \\left( \\frac{\\theta}{2} \\right)|0\\rangle + \\sin\\left( \\frac{\\theta}{2}\\right) e^{i\\phi}|1\\rangle$$"
   ]
  },
  {
   "cell_type": "markdown",
   "metadata": {
    "slideshow": {
     "slide_type": "subslide"
    }
   },
   "source": [
    "<!-- where $0\\leq \\phi < 2\\pi$, and $0\\leq \\theta \\leq \\pi$.  From this it is clear that there is a one-to-one correspondence between qubit states ($\\mathbb{C}^2$) and the points on the surface of a unit sphere ($\\mathbb{R}^3$). This is called the Bloch sphere representation of a qubit state. -->\n",
    "\n",
    "### Bloch sphere\n",
    "\n",
    "<img src=\"img/Bloch_sphere.png\" alt=\"Note: In order for images to show up in this jupyter notebook you need to select File => Trusted Notebook\" width=\"300 px\" align=\"center\">\n",
    "\n",
    "<!-- By contrast, a representation of a classical bit over the Bloch sphere would only require the two points of the sphere intersecting the Z axis. --> \n",
    "\n"
   ]
  },
  {
   "cell_type": "markdown",
   "metadata": {
    "slideshow": {
     "slide_type": "subslide"
    }
   },
   "source": [
    "Quantum gates/operations are usually represented as matrices. <!-- A gate which acts on a qubit is represented by a $2\\times 2$ unitary matrix $U$. --> \n",
    "\n",
    "The action of the quantum gate is found by multiplying the matrix representing the gate with the vector which represents the quantum state.\n",
    "\n",
    "$$|\\psi'\\rangle = U|\\psi\\rangle$$\n",
    "\n",
    "<!-- A general unitary must be able to take the $|0\\rangle$ to the above state. That is -->\n",
    "\n",
    "<!-- $$\n",
    "U = \\begin{pmatrix}\n",
    "\\cos(\\theta/2) & a \\\\\n",
    "e^{i\\phi}\\sin(\\theta/2) & b \n",
    "\\end{pmatrix}\n",
    "$$ -->\n",
    "\n",
    "<!-- where $a$ and $b$ are complex numbers constrained such that $U^\\dagger U = I$ for all $0\\leq\\theta\\leq\\pi$ and $0\\leq \\phi<2\\pi$. This gives 3 constraints and as such $a\\rightarrow -e^{i\\lambda}\\sin(\\theta/2)$ and $b\\rightarrow e^{i\\lambda+i\\phi}\\cos(\\theta/2)$ where $0\\leq \\lambda<2\\pi$ giving --> \n",
    "\n",
    "The most general form of a single qubit unitary gate\n",
    "\n",
    "$$\n",
    "U = \\begin{pmatrix}\n",
    "\\cos(\\theta/2) & -e^{i\\lambda}\\sin(\\theta/2) \\\\\n",
    "e^{i\\phi}\\sin(\\theta/2) & e^{i\\lambda+i\\phi}\\cos(\\theta/2) \n",
    "\\end{pmatrix}.\n",
    "$$\n",
    "\n",
    "<!-- This is the most general form of a single qubit unitary. -->"
   ]
  },
  {
   "cell_type": "markdown",
   "metadata": {
    "slideshow": {
     "slide_type": "slide"
    }
   },
   "source": [
    "## Let's start building a circuit"
   ]
  },
  {
   "cell_type": "code",
   "execution_count": 1,
   "metadata": {
    "hideOutput": true,
    "slideshow": {
     "slide_type": "subslide"
    }
   },
   "outputs": [
    {
     "name": "stdout",
     "output_type": "stream",
     "text": [
      "Requirement already satisfied: qiskit in c:\\programdata\\anaconda3\\lib\\site-packages (0.8.0)\n",
      "Requirement already satisfied: qiskit_terra==0.7.1 in c:\\programdata\\anaconda3\\lib\\site-packages (from qiskit) (0.7.1)\n",
      "Requirement already satisfied: qiskit-aer==0.1.1 in c:\\programdata\\anaconda3\\lib\\site-packages (from qiskit) (0.1.1)\n",
      "Requirement already satisfied: qiskit-ignis==0.1.0 in c:\\programdata\\anaconda3\\lib\\site-packages (from qiskit) (0.1.0)\n",
      "Requirement already satisfied: ply>=3.10 in c:\\programdata\\anaconda3\\lib\\site-packages (from qiskit_terra==0.7.1->qiskit) (3.10)\n",
      "Requirement already satisfied: requests-ntlm>=1.1.0 in c:\\programdata\\anaconda3\\lib\\site-packages (from qiskit_terra==0.7.1->qiskit) (1.1.0)\n",
      "Requirement already satisfied: pillow>=4.2.1 in c:\\programdata\\anaconda3\\lib\\site-packages (from qiskit_terra==0.7.1->qiskit) (5.3.0)\n",
      "Requirement already satisfied: jsonschema<2.7,>=2.6 in c:\\programdata\\anaconda3\\lib\\site-packages (from qiskit_terra==0.7.1->qiskit) (2.6.0)\n",
      "Requirement already satisfied: numpy>=1.13 in c:\\programdata\\anaconda3\\lib\\site-packages (from qiskit_terra==0.7.1->qiskit) (1.15.4)\n",
      "Requirement already satisfied: requests>=2.19 in c:\\users\\ana\\appdata\\roaming\\python\\python36\\site-packages (from qiskit_terra==0.7.1->qiskit) (2.21.0)\n",
      "Requirement already satisfied: networkx>=2.2 in c:\\users\\ana\\appdata\\roaming\\python\\python36\\site-packages (from qiskit_terra==0.7.1->qiskit) (2.2)\n",
      "Requirement already satisfied: marshmallow-polyfield<4,>=3.2 in c:\\users\\ana\\appdata\\roaming\\python\\python36\\site-packages (from qiskit_terra==0.7.1->qiskit) (3.2)\n",
      "Requirement already satisfied: psutil>=5 in c:\\programdata\\anaconda3\\lib\\site-packages (from qiskit_terra==0.7.1->qiskit) (5.4.3)\n",
      "Requirement already satisfied: sympy>=1.3 in c:\\users\\ana\\appdata\\roaming\\python\\python36\\site-packages (from qiskit_terra==0.7.1->qiskit) (1.3)\n",
      "Requirement already satisfied: scipy!=0.19.1,>=0.19 in c:\\users\\ana\\appdata\\roaming\\python\\python36\\site-packages (from qiskit_terra==0.7.1->qiskit) (1.1.0)\n",
      "Requirement already satisfied: marshmallow<3,>=2.16.3 in c:\\programdata\\anaconda3\\lib\\site-packages (from qiskit_terra==0.7.1->qiskit) (2.17.0)\n",
      "Requirement already satisfied: ntlm-auth>=1.0.2 in c:\\programdata\\anaconda3\\lib\\site-packages (from requests-ntlm>=1.1.0->qiskit_terra==0.7.1->qiskit) (1.1.0)\n",
      "Requirement already satisfied: cryptography>=1.3 in c:\\programdata\\anaconda3\\lib\\site-packages (from requests-ntlm>=1.1.0->qiskit_terra==0.7.1->qiskit) (2.5)\n",
      "Requirement already satisfied: urllib3<1.25,>=1.21.1 in c:\\programdata\\anaconda3\\lib\\site-packages (from requests>=2.19->qiskit_terra==0.7.1->qiskit) (1.22)\n",
      "Requirement already satisfied: idna<2.9,>=2.5 in c:\\programdata\\anaconda3\\lib\\site-packages (from requests>=2.19->qiskit_terra==0.7.1->qiskit) (2.6)\n",
      "Requirement already satisfied: chardet<3.1.0,>=3.0.2 in c:\\programdata\\anaconda3\\lib\\site-packages (from requests>=2.19->qiskit_terra==0.7.1->qiskit) (3.0.4)\n",
      "Requirement already satisfied: certifi>=2017.4.17 in c:\\programdata\\anaconda3\\lib\\site-packages (from requests>=2.19->qiskit_terra==0.7.1->qiskit) (2018.11.29)\n",
      "Requirement already satisfied: decorator>=4.3.0 in c:\\users\\ana\\appdata\\roaming\\python\\python36\\site-packages (from networkx>=2.2->qiskit_terra==0.7.1->qiskit) (4.3.0)\n",
      "Requirement already satisfied: mpmath>=0.19 in c:\\programdata\\anaconda3\\lib\\site-packages (from sympy>=1.3->qiskit_terra==0.7.1->qiskit) (1.0.0)\n",
      "Requirement already satisfied: six>=1.4.1 in c:\\programdata\\anaconda3\\lib\\site-packages (from cryptography>=1.3->requests-ntlm>=1.1.0->qiskit_terra==0.7.1->qiskit) (1.11.0)\n",
      "Requirement already satisfied: asn1crypto>=0.21.0 in c:\\programdata\\anaconda3\\lib\\site-packages (from cryptography>=1.3->requests-ntlm>=1.1.0->qiskit_terra==0.7.1->qiskit) (0.24.0)\n",
      "Requirement already satisfied: cffi!=1.11.3,>=1.8 in c:\\programdata\\anaconda3\\lib\\site-packages (from cryptography>=1.3->requests-ntlm>=1.1.0->qiskit_terra==0.7.1->qiskit) (1.11.4)\n",
      "Requirement already satisfied: pycparser in c:\\programdata\\anaconda3\\lib\\site-packages (from cffi!=1.11.3,>=1.8->cryptography>=1.3->requests-ntlm>=1.1.0->qiskit_terra==0.7.1->qiskit) (2.18)\n"
     ]
    }
   ],
   "source": [
    "!pip install qiskit"
   ]
  },
  {
   "cell_type": "code",
   "execution_count": 1,
   "metadata": {
    "slideshow": {
     "slide_type": "subslide"
    }
   },
   "outputs": [],
   "source": [
    "# Ignore warnings for the purpose of this demonstration\n",
    "import warnings\n",
    "warnings.filterwarnings('ignore')"
   ]
  },
  {
   "cell_type": "code",
   "execution_count": 2,
   "metadata": {
    "slideshow": {
     "slide_type": "subslide"
    }
   },
   "outputs": [],
   "source": [
    "# Useful additional packages \n",
    "import matplotlib.pyplot as plt\n",
    "%matplotlib inline\n",
    "import numpy as np\n",
    "from math import pi"
   ]
  },
  {
   "cell_type": "code",
   "execution_count": 3,
   "metadata": {
    "ExecuteTime": {
     "end_time": "2018-09-29T00:04:16.313210Z",
     "start_time": "2018-09-29T00:04:14.460647Z"
    },
    "hideOutput": true,
    "slideshow": {
     "slide_type": "subslide"
    }
   },
   "outputs": [],
   "source": [
    "# Relevant QISKit modules\n",
    "from qiskit import QuantumCircuit, ClassicalRegister, QuantumRegister"
   ]
  },
  {
   "cell_type": "code",
   "execution_count": 4,
   "metadata": {
    "slideshow": {
     "slide_type": "subslide"
    }
   },
   "outputs": [],
   "source": [
    "# Create registers\n",
    "qr = QuantumRegister(2)\n",
    "# you only need the classical register if you want to do measurement!\n",
    "cr = ClassicalRegister(2)\n",
    "\n",
    "# Create quantum circuit\n",
    "qc = QuantumCircuit(qr, cr)"
   ]
  },
  {
   "cell_type": "markdown",
   "metadata": {
    "slideshow": {
     "slide_type": "slide"
    }
   },
   "source": [
    "#### Circuits are the primary unit of computation in Terra!\n",
    "\n",
    "Circuits contain:\n",
    "\n",
    "* name - for referencing the circuit later\n",
    "* data - list of gates in the circuit\n",
    "* registers - quantum and classical registers\n",
    "\n",
    "They do **not** contain information about possible backends."
   ]
  },
  {
   "cell_type": "markdown",
   "metadata": {
    "slideshow": {
     "slide_type": "slide"
    }
   },
   "source": [
    "# Gates"
   ]
  },
  {
   "cell_type": "markdown",
   "metadata": {
    "slideshow": {
     "slide_type": "subslide"
    }
   },
   "source": [
    "Although the basic gate set of IBM Q devices is $$\\{id, u1, u2, u3, cx\\}$$ QISKit support many gates. (check the [Summary of quantum operations](https://github.com/Qiskit/qiskit-tutorials/blob/master/qiskit/terra/summary_of_quantum_operations.ipynb) in the tutorials of terra) "
   ]
  },
  {
   "cell_type": "markdown",
   "metadata": {
    "slideshow": {
     "slide_type": "subslide"
    }
   },
   "source": [
    "#### Example : Gate $X$: bit-flip gate \n",
    "\n",
    "The X-gate is also known as NOT gate or “bit-flip”, since it changes a state $| 0 \\rangle $ to $| 1 \\rangle $ and vice versa. This is quantum analogue to a classical NOT gate.\n",
    "\n",
    "On the Bloch sphere representation, this operation corresponds to a rotation of the state around the X-axis by $\\pi$ radians.\n",
    "\n",
    "<img src=\"img/xbloch.png\" width=\"700 px\" align=\"center\">\n",
    "\n",
    "Its matrix representation is:\n",
    "$$\n",
    "X   =  \n",
    "\\begin{pmatrix}\n",
    "0 & 1\\\\\n",
    "1 & 0\n",
    "\\end{pmatrix}\n",
    "$$"
   ]
  },
  {
   "cell_type": "markdown",
   "metadata": {
    "slideshow": {
     "slide_type": "subslide"
    }
   },
   "source": [
    "#### Example: Hadamard gate\n",
    "\n",
    "The Hadamard gate may be used to create superposition. It maps the basis state $| 0 \\rangle$ to $| + \\rangle =\\frac{| 0 \\rangle + | 1 \\rangle }{\\sqrt{2}}$, and $| 1 \\rangle $ to $ | - \\rangle =\\frac{ |0 \\rangle - |1 \\rangle }{\\sqrt{2}}$. <!-- On the Bloch sphere, $| + \\rangle$ and $| - \\rangle $ are represented by points on the X axis. When measured, these states have equal probability of becoming $| 1\\rangle $ or $| 0 \\rangle $, since the square modulus of the probability amplitude for each of the states has equal value. -->\n",
    "\n",
    "<img src=\"img/hbloch.png\" width=\"700 px\" align=\"center\">\n",
    "\n",
    "<!-- In fact, $|+\\rangle $ and $| - \\rangle $ are indistinguishable when measured on the computational basis. However, the states can be identified by measuring the qubit on the superposition basis, i.e. along the X-axis. A way to achieve this is by simply applying an Hadamard gate before performing the measurement, as shown in the following figure.\n",
    "\n",
    "\n",
    "<img src=\"img/hhbloch.png\" width=\"700 px\" align=\"center\">\n",
    "-->\n",
    "\n",
    "The Hadamard gate, along with the X, Y and Z gates, is self-inverse: $H.H = I$."
   ]
  },
  {
   "cell_type": "code",
   "execution_count": 5,
   "metadata": {
    "slideshow": {
     "slide_type": "subslide"
    }
   },
   "outputs": [
    {
     "data": {
      "image/png": "[encoded data removed]",
      "text/plain": [
       "<Figure size 240.8x258.86 with 1 Axes>"
      ]
     },
     "execution_count": 5,
     "metadata": {},
     "output_type": "execute_result"
    }
   ],
   "source": [
    "qc_single_qubit = QuantumCircuit(qr, cr)\n",
    "\n",
    "qc_single_qubit.h(qr[0])\n",
    "\n",
    "qc_single_qubit.draw(output='mpl')"
   ]
  },
  {
   "cell_type": "code",
   "execution_count": 6,
   "metadata": {
    "slideshow": {
     "slide_type": "subslide"
    }
   },
   "outputs": [
    {
     "data": {
      "image/png": "[encoded data removed]",
      "text/plain": [
       "<Figure size 240.8x258.86 with 1 Axes>"
      ]
     },
     "execution_count": 6,
     "metadata": {},
     "output_type": "execute_result"
    }
   ],
   "source": [
    "qc_multi_qubit = QuantumCircuit(qr, cr)\n",
    "\n",
    "qc_multi_qubit.cx(qr[0],qr[1])\n",
    "\n",
    "qc_multi_qubit.draw(output='mpl')"
   ]
  },
  {
   "cell_type": "code",
   "execution_count": 7,
   "metadata": {
    "slideshow": {
     "slide_type": "subslide"
    }
   },
   "outputs": [
    {
     "data": {
      "image/png": "[encoded data removed]",
      "text/plain": [
       "<Figure size 301x258.86 with 1 Axes>"
      ]
     },
     "execution_count": 7,
     "metadata": {},
     "output_type": "execute_result"
    }
   ],
   "source": [
    "qc = qc_single_qubit + qc_multi_qubit\n",
    "qc.draw(output='mpl')"
   ]
  },
  {
   "cell_type": "markdown",
   "metadata": {
    "slideshow": {
     "slide_type": "slide"
    }
   },
   "source": [
    "# Simulating circuits with Qiskit Aer"
   ]
  },
  {
   "cell_type": "markdown",
   "metadata": {
    "slideshow": {
     "slide_type": "subslide"
    }
   },
   "source": [
    "<div class=\"alert alert-block alert-info\">\n",
    "<p>In version 0.7 <b> Aer </b> was rename to <b> BasicAer </b>. </p>\n",
    "\n",
    "<p><b>Aer</b> will be used to fancier and larger packages.</p>\n",
    "</div>"
   ]
  },
  {
   "cell_type": "markdown",
   "metadata": {
    "slideshow": {
     "slide_type": "subslide"
    }
   },
   "source": [
    "#### Aer vs BasicAer \n",
    "\n",
    "* BasicAer: Terra's built-in suite of pure-python simulators\n",
    "\n",
    "* Aer: Qiskit's suite of high-performance simulators (faster and with noise sophisticated models - aer.noise)\n"
   ]
  },
  {
   "cell_type": "code",
   "execution_count": 8,
   "metadata": {
    "slideshow": {
     "slide_type": "slide"
    }
   },
   "outputs": [],
   "source": [
    "from qiskit import BasicAer, execute"
   ]
  },
  {
   "cell_type": "markdown",
   "metadata": {
    "slideshow": {
     "slide_type": "subslide"
    }
   },
   "source": [
    "<div class=\"alert alert-block alert-info\">\n",
    "To run the circuit you need to add measurement gates! \n",
    "</div>"
   ]
  },
  {
   "cell_type": "code",
   "execution_count": 9,
   "metadata": {
    "slideshow": {
     "slide_type": "subslide"
    }
   },
   "outputs": [
    {
     "data": {
      "text/html": [
       "<pre style=\"word-wrap: normal;white-space: pre;line-height: 15px;\">         ┌───┐        ┌─┐\n",
       "q0_0: |0>┤ H ├──■─────┤M├\n",
       "         └───┘┌─┴─┐┌─┐└╥┘\n",
       "q0_1: |0>─────┤ X ├┤M├─╫─\n",
       "              └───┘└╥┘ ║ \n",
       " c0_0: 0 ═══════════╬══╩═\n",
       "                    ║    \n",
       " c0_1: 0 ═══════════╩════\n",
       "                         </pre>"
      ],
      "text/plain": [
       "<qiskit.tools.visualization._text.TextDrawing at 0x1aeef3d5b70>"
      ]
     },
     "execution_count": 9,
     "metadata": {},
     "output_type": "execute_result"
    }
   ],
   "source": [
    "qc.measure(qr, cr)\n",
    "qc.draw()"
   ]
  },
  {
   "cell_type": "code",
   "execution_count": 10,
   "metadata": {
    "slideshow": {
     "slide_type": "slide"
    }
   },
   "outputs": [
    {
     "data": {
      "text/plain": [
       "[<QasmSimulator('qasm_simulator') from AerProvider()>,\n",
       " <StatevectorSimulator('statevector_simulator') from AerProvider()>,\n",
       " <UnitarySimulator('unitary_simulator') from AerProvider()>]"
      ]
     },
     "execution_count": 10,
     "metadata": {},
     "output_type": "execute_result"
    }
   ],
   "source": [
    "BasicAer.backends()"
   ]
  },
  {
   "cell_type": "markdown",
   "metadata": {
    "slideshow": {
     "slide_type": "subslide"
    }
   },
   "source": [
    "#### Simulatores \n",
    "\n",
    "* statevector_simulator : This is the qasm_simulator with a snapshot at the end\n",
    "  <p> Returns result object containing a dictionary of basis states with complex amplitudes for each</p>\n",
    "* unitary_simulator : Returns a matrix of your circuit!\n",
    "* ibmq_qasm_simulator : a public simulator on an HPC machine run by IBM (Note, this is under the IBMQ provider)"
   ]
  },
  {
   "cell_type": "markdown",
   "metadata": {
    "slideshow": {
     "slide_type": "slide"
    }
   },
   "source": [
    "### Statevector_simulator"
   ]
  },
  {
   "cell_type": "code",
   "execution_count": 14,
   "metadata": {
    "slideshow": {
     "slide_type": "subslide"
    }
   },
   "outputs": [
    {
     "data": {
      "text/html": [
       "<pre style=\"word-wrap: normal;white-space: pre;line-height: 15px;\">         ┌───┐┌─┐\n",
       "q0_0: |0>┤ H ├┤M├\n",
       "         └───┘└╥┘\n",
       "q0_1: |0>──────╫─\n",
       "               ║ \n",
       " c0_0: 0 ══════╩═\n",
       "                 \n",
       " c0_1: 0 ════════\n",
       "                 </pre>"
      ],
      "text/plain": [
       "<qiskit.tools.visualization._text.TextDrawing at 0x1aeef241a20>"
      ]
     },
     "execution_count": 14,
     "metadata": {},
     "output_type": "execute_result"
    }
   ],
   "source": [
    "qc_superposition = QuantumCircuit(qr,cr)\n",
    "qc_superposition = qc_single_qubit \n",
    "qc_superposition.measure(qr[0],cr[0])\n",
    "qc_superposition.draw()"
   ]
  },
  {
   "cell_type": "code",
   "execution_count": 16,
   "metadata": {
    "slideshow": {
     "slide_type": "subslide"
    }
   },
   "outputs": [
    {
     "data": {
      "image/png": "[encoded data removed]",
      "text/plain": [
       "<Figure size 576x288 with 2 Axes>"
      ]
     },
     "execution_count": 16,
     "metadata": {},
     "output_type": "execute_result"
    }
   ],
   "source": [
    "backend = BasicAer.get_backend(\"statevector_simulator\")\n",
    "\n",
    "# Import plotting tools\n",
    "from qiskit.tools.visualization import plot_bloch_multivector\n",
    "\n",
    "# Plot the Bloch sphere of the qubit state after performing the Hadamard gate\n",
    "result_h = execute(qc_superposition, backend).result()\n",
    "bloch_h= result_h.get_statevector(qc_superposition)\n",
    "plot_bloch_multivector(bloch_h)"
   ]
  },
  {
   "cell_type": "code",
   "execution_count": 19,
   "metadata": {
    "slideshow": {
     "slide_type": "subslide"
    }
   },
   "outputs": [
    {
     "data": {
      "image/png": "[encoded data removed]",
      "text/plain": [
       "<Figure size 576x288 with 2 Axes>"
      ]
     },
     "execution_count": 19,
     "metadata": {},
     "output_type": "execute_result"
    }
   ],
   "source": [
    "# Plot the Bloch sphere of the qubit state after creating entanglement\n",
    "result_bell = execute(qc, backend).result()\n",
    "bloch_bell= result_bell.get_statevector(qc)\n",
    "plot_bloch_multivector(bloch_bell)"
   ]
  },
  {
   "cell_type": "markdown",
   "metadata": {
    "slideshow": {
     "slide_type": "slide"
    }
   },
   "source": [
    "### qasm_simulator"
   ]
  },
  {
   "cell_type": "code",
   "execution_count": null,
   "metadata": {},
   "outputs": [],
   "source": []
  },
  {
   "cell_type": "code",
   "execution_count": 12,
   "metadata": {},
   "outputs": [],
   "source": [
    "from qiskit import IBMQ\n",
    "import qiskit.tools.visualization\n",
    "from qiskit.quantum_info import state_fidelity"
   ]
  },
  {
   "cell_type": "code",
   "execution_count": 3,
   "metadata": {
    "slideshow": {
     "slide_type": "skip"
    }
   },
   "outputs": [],
   "source": [
    "# Ignore warnings for the purpose of this demonstration\n",
    "import warnings; warnings.simplefilter('ignore')"
   ]
  },
  {
   "cell_type": "markdown",
   "metadata": {},
   "source": [
    "## Single-Qubit Gates<a id='quantum_operations'></a>\n",
    "\n",
    "Some of the single-qubit gates available are:\n",
    "- Identity and measurement gates\n",
    "- Pauli gates\n",
    "- Hadamard gate\n",
    "- Phase-shift gates\n",
    "- u gates"
   ]
  },
  {
   "cell_type": "markdown",
   "metadata": {},
   "source": [
    "### Identity gate"
   ]
  },
  {
   "cell_type": "code",
   "execution_count": 13,
   "metadata": {},
   "outputs": [
    {
     "data": {
      "text/html": [
       "<pre style=\"word-wrap: normal;white-space: pre;line-height: 15px;\">         ┌────┐\n",
       "q1_0: |0>┤ Id ├\n",
       "         └────┘\n",
       " c1_0: 0 ══════\n",
       "               </pre>"
      ],
      "text/plain": [
       "<qiskit.tools.visualization._text.TextDrawing at 0x2cc8d212358>"
      ]
     },
     "execution_count": 13,
     "metadata": {},
     "output_type": "execute_result"
    }
   ],
   "source": [
    "# Create registers\n",
    "qr = QuantumRegister(1)\n",
    "cr = ClassicalRegister(1)\n",
    "\n",
    "# Create quantum circuit\n",
    "qc_id = QuantumCircuit(qr, cr)\n",
    "\n",
    "# Finally, perform identity operation\n",
    "qc_id.iden(qr)\n",
    "\n",
    "# Draw the circuit (ASCII)\n",
    "qc_id.draw()"
   ]
  },
  {
   "cell_type": "markdown",
   "metadata": {},
   "source": [
    "### Measurement gate\n",
    "\n",
    "Measurement operations can be performed by defining the correspondence between the measured qubit and the bit where the result of the operation (0 or 1) is going to be stored. Since the measuring process physically collapses the qubit into a classical state, QISKit does not allow for subsequent operations on the measured qubit."
   ]
  },
  {
   "cell_type": "code",
   "execution_count": 14,
   "metadata": {},
   "outputs": [
    {
     "data": {
      "image/png": "[encoded data removed]",
      "text/plain": [
       "<Figure size 240.8x138.46 with 1 Axes>"
      ]
     },
     "execution_count": 14,
     "metadata": {},
     "output_type": "execute_result"
    }
   ],
   "source": [
    "# Quantum circuit\n",
    "qc_ground = QuantumCircuit(qr, cr)\n",
    "\n",
    "#Measurement operation\n",
    "qc_ground.measure(qr[0], cr[0])\n",
    "\n",
    "# Draw circuit (matplotlib)\n",
    "qc_ground.draw(output='mpl')"
   ]
  },
  {
   "cell_type": "code",
   "execution_count": 15,
   "metadata": {
    "scrolled": true
   },
   "outputs": [
    {
     "data": {
      "image/png": "[encoded data removed]",
      "text/plain": [
       "<Figure size 240.8x138.46 with 1 Axes>"
      ]
     },
     "execution_count": 15,
     "metadata": {},
     "output_type": "execute_result"
    }
   ],
   "source": [
    "# Quantum circuit\n",
    "qc_excited = QuantumCircuit(qr, cr)\n",
    "\n",
    "# Perform x gate\n",
    "qc_excited.x(qr)\n",
    "\n",
    "# Draw circuit\n",
    "qc_excited.draw(output='mpl')"
   ]
  },
  {
   "cell_type": "markdown",
   "metadata": {},
   "source": [
    "Similarly, the Y and Z gates rotate the state around their respective axes. "
   ]
  },
  {
   "cell_type": "markdown",
   "metadata": {},
   "source": [
    "#### $Y$: bit- and phase-flip gate\n",
    "\n",
    "The $Y$ gate is defined as:\n",
    "\n",
    "$$\n",
    "Y  = \n",
    "\\begin{pmatrix}\n",
    "0 & -i\\\\\n",
    "i & 0\n",
    "\\end{pmatrix}\n",
    "$$\n",
    "\n",
    "It is equivalent to a rotation around Y-axis of the Bloch sphere by $\\pi$ radians.\n",
    "This gate maps $| 0 \\rangle $ to $i | 1 \\rangle $ and $| 1 \\rangle$ to $ - i | 0 \\rangle$"
   ]
  },
  {
   "cell_type": "code",
   "execution_count": 16,
   "metadata": {},
   "outputs": [
    {
     "data": {
      "image/png": "[encoded data removed]",
      "text/plain": [
       "<Figure size 240.8x138.46 with 1 Axes>"
      ]
     },
     "execution_count": 16,
     "metadata": {},
     "output_type": "execute_result"
    }
   ],
   "source": [
    "# Quantum circuit\n",
    "qc_phase_flip_y = QuantumCircuit(qr, cr)\n",
    "\n",
    "# Perform operation\n",
    "qc_phase_flip_y.y(qr)\n",
    "\n",
    "# Draw circuit\n",
    "qc_phase_flip_y.draw(output='mpl')"
   ]
  },
  {
   "cell_type": "markdown",
   "metadata": {},
   "source": [
    "#### $Z$: phase-flip gate\n",
    "\n",
    "The phase flip gate $Z$ is defined as:\n",
    "\n",
    "$$\n",
    "Z = \n",
    "\\begin{pmatrix}\n",
    "1 & 0\\\\\n",
    "0 & -1\n",
    "\\end{pmatrix}\n",
    "$$\n",
    "\n",
    "It leaves the basis state $|0 \\rangle $ unchanged, while mapping $| 1 \\rangle$ to $- | 1 \\rangle $."
   ]
  },
  {
   "cell_type": "code",
   "execution_count": 17,
   "metadata": {},
   "outputs": [
    {
     "data": {
      "image/png": "[encoded data removed]",
      "text/plain": [
       "<Figure size 240.8x138.46 with 1 Axes>"
      ]
     },
     "execution_count": 17,
     "metadata": {},
     "output_type": "execute_result"
    }
   ],
   "source": [
    "# Quantum circuit\n",
    "qc_phase_flip_z = QuantumCircuit(qr, cr)\n",
    "\n",
    "# Perform the operation\n",
    "qc_phase_flip_z.z(qr)\n",
    "\n",
    "# Draw the circuit\n",
    "qc_phase_flip_z.draw(output='mpl')"
   ]
  },
  {
   "cell_type": "code",
   "execution_count": 18,
   "metadata": {},
   "outputs": [
    {
     "data": {
      "image/png": "[encoded data removed]",
      "text/plain": [
       "<Figure size 240.8x138.46 with 1 Axes>"
      ]
     },
     "execution_count": 18,
     "metadata": {},
     "output_type": "execute_result"
    }
   ],
   "source": [
    "# Quantum circuit\n",
    "qc_superposition = QuantumCircuit(qr, cr)\n",
    "\n",
    "# Perform the operation\n",
    "qc_superposition.h(qr)\n",
    "\n",
    "# Draw the circuit\n",
    "qc_superposition.draw(output='mpl')"
   ]
  },
  {
   "cell_type": "markdown",
   "metadata": {},
   "source": [
    "QISKit, through the Aer component, also allows us to visualize the Bloch sphere of a single qubit state:"
   ]
  },
  {
   "cell_type": "code",
   "execution_count": 19,
   "metadata": {},
   "outputs": [
    {
     "data": {
      "image/png": "[encoded data removed]",
      "text/plain": [
       "<Figure size 288x288 with 1 Axes>"
      ]
     },
     "execution_count": 19,
     "metadata": {},
     "output_type": "execute_result"
    }
   ],
   "source": [
    "# Import plotting tools\n",
    "from qiskit.tools.visualization import plot_bloch_multivector\n",
    "\n",
    "# Simulate statevector of the initial qubit state and represent it over the Bloch sphere\n",
    "backend = BasicAer.get_backend('statevector_simulator')\n",
    "result_ground = execute(qc_ground , backend).result()\n",
    "bloch_ground = result_ground.get_statevector(qc_ground)\n",
    "plot_bloch_multivector(bloch_ground)"
   ]
  },
  {
   "cell_type": "code",
   "execution_count": 20,
   "metadata": {},
   "outputs": [
    {
     "data": {
      "image/png": "[encoded data removed]",
      "text/plain": [
       "<Figure size 288x288 with 1 Axes>"
      ]
     },
     "execution_count": 20,
     "metadata": {},
     "output_type": "execute_result"
    }
   ],
   "source": [
    "# Plot the Bloch sphere of the qubit state after performing the Hadamard gate\n",
    "result_h = execute(qc_superposition, backend).result()\n",
    "bloch_h= result_h.get_statevector(qc_superposition)\n",
    "plot_bloch_multivector(bloch_h)"
   ]
  },
  {
   "cell_type": "markdown",
   "metadata": {},
   "source": [
    "### Phase Shift Operations\n",
    "\n",
    "The $S$ and $T$ gates correspond to phase-shift operations. A generalised phase shift gate leaves the basis state $|0\\rangle$ unchanged, and maps $| 1 \\rangle $ to $e^{i\\phi}|1 \\rangle$. The $S$ gate changes the phase by $\\pi/2$, and $T$ changes the phase by $\\pi/4$; $S^\\dagger$ and $T^\\dagger$ are their respective inverses, i.e. they map $|1\\rangle$ to $e^{-i\\phi}|1\\rangle$.\n",
    "\n",
    "Note that the Z gate is a particular instance of a phase-shift gate, shifting the state of the qubit by a phase $\\pi$: $e^{i\\pi}|1 \\rangle = -|1\\rangle$.\n",
    "\n",
    "<img src=\"img/phasebloch.png\" width=\"800 px\" align=\"center\">\n"
   ]
  },
  {
   "cell_type": "code",
   "execution_count": null,
   "metadata": {},
   "outputs": [],
   "source": [
    "# Creating registers\n",
    "qr4 = QuantumRegister(4)\n",
    "cr4 = ClassicalRegister(4)\n",
    "\n",
    "# Quantum circuit\n",
    "qc_phase = QuantumCircuit(qr4, cr4)\n",
    "\n",
    "# Perform operations on different qubits\n",
    "qc_phase.t(qr4[0])\n",
    "qc_phase.tdg(qr4[1])\n",
    "qc_phase.s(qr4[2])\n",
    "qc_phase.sdg(qr4[3])\n",
    "\n",
    "# Optionally, add the measurement gates after all computations are finished\n",
    "qc_phase.measure(qr4[0], cr4[0])\n",
    "qc_phase.measure(qr4[1], cr4[1])\n",
    "qc_phase.measure(qr4[2], cr4[2])\n",
    "qc_phase.measure(qr4[3], cr4[3])\n",
    "\n",
    "# Draw the circuit\n",
    "qc_phase.draw(output='mpl')\n",
    "\n"
   ]
  },
  {
   "cell_type": "markdown",
   "metadata": {},
   "source": [
    "### Unitary Gates\n",
    "\n",
    "\n",
    "More general quantum operations can be performed using the so-called unitary gates, by previously defining constraint parameters $\\theta$, $\\phi$, $\\lambda$, such that:\n",
    "\n",
    "$$\n",
    "U3(\\theta, \\phi, \\lambda) = \n",
    "\t    \\begin{pmatrix}\n",
    "        \\cos{(\\theta/2)} & -e^{i\\lambda}\\sin{(\\theta/2)}\\\\ \n",
    "        e^{i\\phi}\\sin{(\\theta/2)} & e^{i(\\lambda + \\phi)}\\cos{(\\theta/2)}\n",
    "        \\end{pmatrix}\n",
    "$$\n",
    "\n",
    "Operators $U2$ and $U1$ are obtained from U3 by simply restricting the parameters:\n",
    "\n",
    "$$\n",
    "U2(\\phi, \\lambda) = U3(\\pi/2, \\phi, \\lambda) = \\frac{1}{\\sqrt{2}}\n",
    "\t    \\begin{pmatrix}\n",
    "        1 & -e^{i\\lambda}\\\\ \n",
    "        e^{i\\phi} & e^{i(\\lambda + \\phi)}\n",
    "        \\end{pmatrix}\n",
    "$$\n",
    "\n",
    "$$\n",
    "    U1(\\lambda) = U3(0, 0, \\lambda) =\n",
    "\t    \\begin{pmatrix}\n",
    "        1 & 0\\\\ \n",
    "        0 & e^{i\\lambda}\n",
    "        \\end{pmatrix}\n",
    "$$\n",
    "\n",
    "The operator $U2$ allows for the creation of arbitrary superpositions.\n",
    "\n",
    "The operator $U1$ allows for an arbitrary phase shift $\\lambda$."
   ]
  },
  {
   "cell_type": "code",
   "execution_count": null,
   "metadata": {},
   "outputs": [],
   "source": [
    "# Create registers\n",
    "qr3 = QuantumRegister(3)\n",
    "\n",
    "# Quantum Circuit\n",
    "qc_unitary = QuantumCircuit(qr3)\n",
    "\n",
    "# Perform unitary operations on different qubits\n",
    "qc_unitary.u3(pi, pi/2, pi/2, qr3[0])\n",
    "qc_unitary.u2(0, pi, qr3[1])\n",
    "qc_unitary.u1(pi, qr3[2])\n",
    "\n",
    "# Draw the circuit\n",
    "qc_unitary.draw(output='mpl')"
   ]
  },
  {
   "cell_type": "markdown",
   "metadata": {},
   "source": [
    "Unitary gates can be used to perform any arbitrary unitary operation on a qubit:\n",
    "\n",
    "$$\n",
    "U3 (\\pi, \\pi/2, \\pi/2) = \\mbox{gate Y}\n",
    "$$\n",
    "\n",
    "$$\n",
    "U2 (0,\\pi) = \\mbox{Hadamard}\n",
    "$$\n",
    "\n",
    "$$\n",
    "U1(\\pi) = \\mbox{gate Z}\n",
    "$$"
   ]
  },
  {
   "cell_type": "markdown",
   "metadata": {},
   "source": [
    "## Multi-qubit gates"
   ]
  },
  {
   "cell_type": "markdown",
   "metadata": {},
   "source": [
    "### CNOT gate \n",
    "\n",
    "\n",
    "Note that multiple-qubit quantum states can be written in the ket notation with a tensor product. The tensor product is typically implicit; for a state composed of qubits $q_0$ and $q_1$:\n",
    "\n",
    "$$\n",
    "|q_1\\rangle \\otimes |q_0\\rangle =  |q_1\\rangle |q_0\\rangle = |q_1 q_0\\rangle\n",
    "$$\n",
    "\n",
    "The convention adopted by IBM writes the first qubit at the far-right of the ket, and adds each additional qubit on the left.\n",
    "\n",
    "The controlled X (or controlled NOT) gate allows for the creation of entanglement between two qubits. The CNOT gate's action on basis states is to flip, i.e. apply an X gate to, the target qubit (denoted as $\\oplus$ in quantum circuits) if the control qubit  (denoted as $\\bullet$), is $|1\\rangle$; otherwise it does nothing.\n"
   ]
  },
  {
   "cell_type": "code",
   "execution_count": null,
   "metadata": {},
   "outputs": [],
   "source": [
    "# Create registers and quantum circuit\n",
    "qr2 = QuantumRegister(2)\n",
    "cr2 = ClassicalRegister(2)\n",
    "qc_cnot = QuantumCircuit(qr2, cr2)\n",
    "\n",
    "# Perform CNOT operation\n",
    "qc_cnot.cx(qr2[0], qr2[1])\n",
    "\n",
    "\n",
    "qc_cnot.measure(qr2[0], cr2[0])\n",
    "qc_cnot.measure(qr2[1], cr2[1])\n",
    "\n",
    "qc_cnot.draw(output='mpl')"
   ]
  },
  {
   "cell_type": "markdown",
   "metadata": {},
   "source": [
    "The controlled-not gate flips the `target` qubit when the control qubit is in the state $|1\\rangle$. If we take the MSB as the control qubit (e.g. `cx(q[1],q[0])`), then the matrix would look like\n",
    "\n",
    "$$\n",
    "C_X = \n",
    "\\begin{pmatrix}\n",
    "1 & 0 & 0 & 0\\\\\n",
    "0 & 1 & 0 & 0\\\\\n",
    "0 & 0 & 0 & 1\\\\\n",
    "0 & 0 & 1 & 0\n",
    "\\end{pmatrix}. \n",
    "$$\n",
    "\n",
    "However, when the LSB is the control qubit, (e.g. `cx(q[0],q[1])`), this gate is equivalent to the following matrix:\n",
    "\n",
    "$$\n",
    "C_X = \n",
    "\\begin{pmatrix}\n",
    "1 & 0 & 0 & 0\\\\\n",
    "0 & 0 & 0 & 1\\\\\n",
    "0 & 0 & 1 & 0\\\\\n",
    "0 & 1 & 0 & 0\n",
    "\\end{pmatrix}. \n",
    "$$"
   ]
  },
  {
   "cell_type": "markdown",
   "metadata": {},
   "source": [
    "<div class=\"alert alert-block alert-warning\">\n",
    "<b>Example:</b> \n",
    " Admit a CNOT gate $CX_{01}$ with qubit $q_0$ as control, and $q_1$ as target. If the target qubit is in state $|q_1\\rangle = | 0 \\rangle $, and the control qubit is in the superposition state $| q_0 \\rangle = \\frac{1}{\\sqrt{2}}(|0\\rangle + |1 \\rangle)$, the two-qubit state can be written as a tensor product (i.e. a separable state):\n",
    "    \n",
    "<br>\n",
    "$$\n",
    "|q_1 q_0 \\rangle = |0\\rangle \\otimes \\frac{1}{\\sqrt{2}} \\left ( |0\\rangle + |1\\rangle \\right ) = \\frac{1}{\\sqrt{2}}\\left ( |00\\rangle + |01\\rangle \\right )\n",
    "$$\n",
    "<br>\n",
    "The CNOT gate will map the two-qubit basis state $|01\\rangle$ to the state $|11\\rangle $, while leaving $|00\\rangle$ unchanged:\n",
    "<br>\n",
    "$$\n",
    "CX_{01} |q_1 q_0\\rangle = \\frac{1}{\\sqrt{2}}\\left ( |00\\rangle + |11\\rangle \\right )\n",
    "$$\n",
    "<br>\n",
    "The two-qubit state can not be described in terms of individual qubits - the qubits are **entangled**.\n",
    "</div>"
   ]
  },
  {
   "cell_type": "markdown",
   "metadata": {},
   "source": [
    "### Other Quantum Operations\n",
    "\n",
    "The gate set presented in the composer is universal, i.e. it is possible to decompose any quantum operations over n qubits to arbitrary precision using only the set of gates previously presented (how to efficiently determine and perform such a decomposition, however, is a subject of much debate). \n",
    "    \n",
    "Other notable operators are the __SWAP gate__, which exchanges the state between two qubits, and can be performed using 3 CNOT gates: \n",
    "\n",
    "\n",
    "$$\n",
    "\\mathrm{SWAP} = \n",
    "\\begin{pmatrix}\n",
    "1 & 0 & 0 & 0\\\\\n",
    "0 & 0 & 1 & 0\\\\\n",
    "0 & 1 & 0 & 0\\\\\n",
    "0 & 0 & 0 & 1\n",
    "\\end{pmatrix}.\n",
    "$$\n",
    "\n",
    "And also the __Toffoli gate__ (or **CCNOT**), which performs a NOT operations on a target qubit, using two other qubits as controls.\n",
    "\n",
    "$$\n",
    "CCX = \n",
    "\\begin{pmatrix}\n",
    "1 & 0 & 0 & 0 & 0 & 0 & 0 & 0\\\\\n",
    "0 & 1 & 0 & 0 & 0 & 0 & 0 & 0\\\\\n",
    "0 & 0 & 1 & 0 & 0 & 0 & 0 & 0\\\\\n",
    "0 & 0 & 0 & 0 & 0 & 0 & 0 & 1\\\\\n",
    "0 & 0 & 0 & 0 & 1 & 0 & 0 & 0\\\\\n",
    "0 & 0 & 0 & 0 & 0 & 1 & 0 & 0\\\\\n",
    "0 & 0 & 0 & 0 & 0 & 0 & 1 & 0\\\\\n",
    "0 & 0 & 0 & 1 & 0 & 0 & 0 & 0\n",
    "\\end{pmatrix}.\n",
    "$$"
   ]
  },
  {
   "cell_type": "code",
   "execution_count": null,
   "metadata": {},
   "outputs": [],
   "source": [
    "# Create quantum circuit\n",
    "qc_swap = QuantumCircuit(qr2)\n",
    "\n",
    "# Perform quantum operation\n",
    "qc_swap.swap(qr2[0], qr2[1])\n",
    "\n",
    "# Draw the circuit\n",
    "qc_swap.draw(output='mpl')"
   ]
  },
  {
   "cell_type": "code",
   "execution_count": null,
   "metadata": {},
   "outputs": [],
   "source": [
    "# Create quantum circuit\n",
    "qc_toffoli = QuantumCircuit(qr3)\n",
    "\n",
    "# Perform quantum operation\n",
    "qc_toffoli.ccx(qr3[0],qr3[1],qr3[2])\n",
    "\n",
    "# Draw the circuit\n",
    "qc_toffoli.draw(output='mpl')"
   ]
  },
  {
   "cell_type": "markdown",
   "metadata": {},
   "source": [
    "<div class=\"alert alert-block alert-info\">\n",
    "<b>Note:</b> Multi-qubit states, in general, cannot be expressed by simply representing each qubit's bloch sphere. This is because the dimension of the vector space rises exponentially with the number of qubits, due to the possibility of correlation and entanglement between qubits in each axis.\n",
    "</div>\n",
    "\n",
    "One such attempt is made [here](https://medium.com/qiskit/visualizing-bits-and-qubits-9af287047b28). For simplification, let's admit only the Z and X axis of the bloch sphere and represent each separately:\n",
    "\n",
    "\n",
    "<img src=\"img/multibloch_A.png\" width=\"600 px\" align=\"center\">\n",
    "\n",
    "If one adds another qubit to the system, extra bars need to be added to account for correlations between measurement bases (ie. axes):\n",
    "\n",
    "<img src=\"img/multibloch_b.png\" width=\"600 px\" align=\"center\">\n",
    "\n",
    "From this visualization, it is clearer why, for a quantum system, its description is more than the sum of descriptions for each individual qubit. Adding a third qubit to this system, this representation would need 3 dimensions (i.e. a cube) for the representation of correlations between all three qubits, adding a fourth qubit would require 4 dimensions, and so on. "
   ]
  },
  {
   "cell_type": "markdown",
   "metadata": {},
   "source": [
    "<div class=\"alert alert-block alert-info\">\n",
    "<b>Look for more information about available quantum operations in :</b> [Summary of quantum operations](https://nbviewer.jupyter.org/github/Qiskit/qiskit-tutorial/blob/master/qiskit/terra/summary_of_quantum_operations.ipynb)\n",
    "</div>"
   ]
  },
  {
   "cell_type": "markdown",
   "metadata": {},
   "source": [
    "## Circuit Basics <a id='circuit_basics'></a>\n",
    "\n",
    "\n",
    "### Building the circuit\n",
    "\n",
    "The basic elements needed for your first program are the QuantumCircuit, and QuantumRegister."
   ]
  },
  {
   "cell_type": "code",
   "execution_count": null,
   "metadata": {
    "ExecuteTime": {
     "end_time": "2018-09-29T00:04:20.069592Z",
     "start_time": "2018-09-29T00:04:20.065489Z"
    }
   },
   "outputs": [],
   "source": [
    "# Create a Quantum Register with 3 qubits.\n",
    "q = QuantumRegister(3, 'q')\n",
    "\n",
    "# Create a Quantum Circuit acting on the q register\n",
    "circ = QuantumCircuit(q)"
   ]
  },
  {
   "cell_type": "markdown",
   "metadata": {},
   "source": [
    "<div class=\"alert alert-block alert-info\">\n",
    "<b>Note:</b> Naming the QuantumRegister is optional and not required.\n",
    "</div>\n",
    "\n",
    "After you create the circuit with its registers, you can add gates (\"operations\") to manipulate the registers. As you proceed through the documentation you will find more gates and circuits; the below is an example of a quantum circuit that makes a three-qubit GHZ state\n",
    "\n",
    "$$|\\psi\\rangle = \\left(|000\\rangle+|111\\rangle\\right)/\\sqrt{2}.$$\n",
    "\n",
    "To create such a state, we start with a 3-qubit quantum register. By default, each qubit in the register is initialized to $|0\\rangle$. To make the GHZ state, we apply the following gates:\n",
    "* A Hadamard gate $H$ on qubit 0, which puts it into a superposition state.\n",
    "* A controlled-Not operation ($C_{X}$) between qubit 0 and qubit 1.\n",
    "* A controlled-Not operation between qubit 0 and qubit 2.\n",
    "\n",
    "On an ideal quantum computer, the state produced by running this circuit would be the GHZ state above.\n",
    "\n",
    "In Qiskit Terra, operations can be added to the circuit one-by-one, as shown below."
   ]
  },
  {
   "cell_type": "code",
   "execution_count": null,
   "metadata": {
    "ExecuteTime": {
     "end_time": "2018-09-29T00:04:20.807281Z",
     "start_time": "2018-09-29T00:04:20.796420Z"
    }
   },
   "outputs": [],
   "source": [
    "# Add a H gate on qubit 0, putting this qubit in superposition.\n",
    "circ.h(q[0])\n",
    "\n",
    "# Add a CX (CNOT) gate on control qubit 0 and target qubit 1, putting\n",
    "# the qubits in a Bell state.\n",
    "circ.cx(q[0], q[1])\n",
    "\n",
    "# Add a CX (CNOT) gate on control qubit 0 and target qubit 2, putting\n",
    "# the qubits in a GHZ state.\n",
    "circ.cx(q[0], q[2]);"
   ]
  },
  {
   "cell_type": "markdown",
   "metadata": {},
   "source": [
    "## Visualize Circuit\n",
    "\n",
    "You can visualize your circuit using Qiskit Terra `QuantumCircuit.draw()`, which plots circuit in the form found in many textbooks."
   ]
  },
  {
   "cell_type": "code",
   "execution_count": null,
   "metadata": {
    "ExecuteTime": {
     "end_time": "2018-09-29T00:04:26.904758Z",
     "start_time": "2018-09-29T00:04:25.509141Z"
    },
    "scrolled": true
   },
   "outputs": [],
   "source": [
    "# Draw circuit in ASCII\n",
    "circ.draw()"
   ]
  },
  {
   "cell_type": "code",
   "execution_count": null,
   "metadata": {},
   "outputs": [],
   "source": [
    "# Draw circuit in matplotlib\n",
    "circ.draw(output='mpl')"
   ]
  },
  {
   "cell_type": "markdown",
   "metadata": {},
   "source": [
    "In this circuit, the qubits are put in order with qubit zero at the top and qubit two at the bottom. The circuit is read left-to-right (meaning that gates which are applied earlier in the circuit show up further to the left)."
   ]
  },
  {
   "cell_type": "markdown",
   "metadata": {},
   "source": [
    "<div class=\"alert alert-block alert-info\">\n",
    "<b>Note:</b> there are many options of circuit visualization. See [Visualizing a quantum circuit](https://nbviewer.jupyter.org/github/Qiskit/qiskit-tutorial/blob/master/qiskit/terra/visualizing_a_quantum_circuit.ipynb).\n",
    "</div>"
   ]
  },
  {
   "cell_type": "markdown",
   "metadata": {},
   "source": [
    "## Simulating circuits using Qiskit Aer <a id='aer_simulation'></a>\n",
    "\n",
    "Qiskit Aer is the package for simulating quantum circuits. It provides many different backends for doing a simulation. Here we use the basic python version.\n",
    "\n",
    "### Statevector backend\n",
    "\n",
    "The most common backend in Qiskit Aer is the `statevector_simulator`. This simulator returns the quantum \n",
    "state which is a complex vector of dimensions $2^n$ where $n$ is the number of qubits \n",
    "(so be careful using this as it will quickly get too large to run on your machine)."
   ]
  },
  {
   "cell_type": "markdown",
   "metadata": {},
   "source": [
    "<div class=\"alert alert-block alert-info\">\n",
    "\n",
    "\n",
    "When representing the state of a multi-qubit system, the tensor order used in qiskit is different than that use in most physics textbooks. Suppose there are $n$ qubits, and qubit $j$ is labeled as $Q_{j}$. In most textbooks (such as Nielsen and Chuang's \"Quantum Computation and Information\"), the basis vectors for the $n$-qubit state space would be labeled as $Q_{0}\\otimes Q_{1} \\otimes \\cdots \\otimes Q_{n}$. **This is not the ordering used by qiskit!** Instead, qiskit uses an ordering in which the $n^{\\mathrm{th}}$ qubit is on the _left_ side of the tesnsor product, so that the basis vectors are labeled as  $Q_n\\otimes \\cdots  \\otimes  Q_1\\otimes Q_0$.\n",
    "\n",
    "For example, if qubit zero is in state 0, qubit 1 is in state 0, and qubit 2 is in state 1, qiskit would represent this state as $|100\\rangle$, whereas most physics textbooks would represent it as $|001\\rangle$.\n",
    "\n",
    "This difference in labeling affects the way multi-qubit operations are represented as matrices. For example, qiskit represents a controlled-X ($C_{X}$) operation with qubit 0 being the control and qubit 1 being the target as\n",
    "\n",
    "$$C_X = \\begin{pmatrix} 1 & 0 & 0 & 0 \\\\  0 & 0 & 0 & 1 \\\\ 0 & 0 & 1 & 0 \\\\ 0 & 1 & 0 & 0 \\\\\\end{pmatrix}.$$\n",
    "\n",
    "</div>\n",
    "\n",
    "To run the above circuit using the statevector simulator, first you need to import Aer and then set the backend to `statevector_simulator`."
   ]
  },
  {
   "cell_type": "code",
   "execution_count": null,
   "metadata": {},
   "outputs": [],
   "source": [
    "# Import Aer\n",
    "from qiskit import BasicAer\n",
    "\n",
    "# Run the quantum circuit on a statevector simulator backend\n",
    "backend = BasicAer.get_backend('statevector_simulator')"
   ]
  },
  {
   "cell_type": "markdown",
   "metadata": {},
   "source": [
    "Now we have chosen the backend it's time to compile and run the quantum circuit. In Qiskit Terra we provide the `execute` function for this. ``execute`` returns a ``job`` object that encapsulates information about the job submitted to the backend.\n",
    "\n",
    "\n",
    "<div class=\"alert alert-block alert-info\">\n",
    "<b>Tip:</b> You can obtain the above parameters in Jupyter. Simply place the text cursor on a function and press Shift+Tab.\n",
    "</div>"
   ]
  },
  {
   "cell_type": "code",
   "execution_count": null,
   "metadata": {
    "hideOutput": true
   },
   "outputs": [],
   "source": [
    "# Create a Quantum Program for execution \n",
    "job = execute(circ, backend)"
   ]
  },
  {
   "cell_type": "markdown",
   "metadata": {},
   "source": [
    "When you run a program, a job object is made that has the following two useful methods: \n",
    "`job.status()` and `job.result()` which return the status of the job and a result object respectively.\n",
    "\n",
    "<div class=\"alert alert-block alert-info\">\n",
    "<b>Note:</b> Jobs run asynchronously but when the result method is called it switches to synchronous and waits for it to finish before moving on to another task.\n",
    "</div>"
   ]
  },
  {
   "cell_type": "code",
   "execution_count": null,
   "metadata": {},
   "outputs": [],
   "source": [
    "result = job.result()"
   ]
  },
  {
   "cell_type": "markdown",
   "metadata": {},
   "source": [
    "The results object contains the data and Qiskit Terra provides the method \n",
    "`result.get_statevector(circ)` to return the state vector for the quantum circuit."
   ]
  },
  {
   "cell_type": "code",
   "execution_count": null,
   "metadata": {},
   "outputs": [],
   "source": [
    "outputstate = result.get_statevector(circ, decimals=3)\n",
    "\n",
    "for n in outputstate:\n",
    "    print(n)"
   ]
  },
  {
   "cell_type": "markdown",
   "metadata": {},
   "source": [
    "Qiskit Terra also provides a visualization toolbox to allow you to view these results.\n",
    "\n",
    "Below, we use the visualization function to plot the real and imaginary components of the state vector."
   ]
  },
  {
   "cell_type": "code",
   "execution_count": null,
   "metadata": {},
   "outputs": [],
   "source": [
    "from qiskit.tools.visualization import plot_state_city\n",
    "plot_state_city(outputstate)"
   ]
  },
  {
   "cell_type": "markdown",
   "metadata": {},
   "source": [
    "### Unitary backend"
   ]
  },
  {
   "cell_type": "markdown",
   "metadata": {},
   "source": [
    "Qiskit Aer also includes a `unitary_simulator` that works _provided all the elements in the circuit are unitary operations_. This backend calculates the $2^n \\times 2^n$ matrix representing the gates in the quantum circuit. "
   ]
  },
  {
   "cell_type": "code",
   "execution_count": null,
   "metadata": {},
   "outputs": [],
   "source": [
    "# Run the quantum circuit on a unitary simulator backend\n",
    "backend = BasicAer.get_backend('unitary_simulator')\n",
    "job = execute(circ, backend)\n",
    "result = job.result()\n",
    "\n",
    "# Show the results\n",
    "#print(np.matrix(result.get_unitary(circ, decimals=3)))\n",
    "\n",
    "def printArray(arr):\n",
    "    for row in arr:\n",
    "        for item in row:\n",
    "            print(\"{:8.3f}\".format(item), end = \"  \")\n",
    "        print(\"\\n\")\n",
    "\n",
    "printArray(result.get_unitary(circ, decimals=3))"
   ]
  },
  {
   "cell_type": "markdown",
   "metadata": {},
   "source": [
    "### OpenQASM backend"
   ]
  },
  {
   "cell_type": "markdown",
   "metadata": {},
   "source": [
    "The simulators above are useful because they provide information about the state output by the ideal circuit and the matrix representation of the circuit. However, a real experiment terminates by _measuring_ each qubit (usually in the computational $|0\\rangle, |1\\rangle$ basis). Without measurement, we cannot gain information about the state. Measurements cause the quantum system to collapse into classical bits. \n",
    "\n",
    "For example, suppose we make independent measurements on each qubit of the three-qubit GHZ state\n",
    "\n",
    "$$|\\psi\\rangle = |000\\rangle +|111\\rangle)/\\sqrt{2},$$\n",
    "\n",
    "and let $xyz$ denote the bitstring that results. Recall that, under the qubit labeling used by Qiskit, $x$ would correspond to the outcome on qubit 2, $y$ to the outcome on qubit 1, and $z$ to the outcome on qubit 0. This representation of the bitstring puts the most significant bit (MSB) on the left, and the least significant bit (LSB) on the right. This is the standard ordering of binary bitstrings. We order the qubits in the same way, which is why Qiskit uses a non-standard tensor product order.\n",
    "\n",
    "The probability of obtaining outcome $xyz$ is given by\n",
    "\n",
    "$$\\mathrm{Pr}(xyz) = |\\langle xyz | \\psi \\rangle |^{2}.$$\n",
    "\n",
    "By explicit computation, we see there are only two bitstrings that will occur: $000$ and $111$. If the bitstring $000$ is obtained, the state of the qubits is $|000\\rangle$, and if the bitstring is $111$, the qubits are left in the state $|111\\rangle$. The probability of obtaining 000 or 111 is the same; namely, 1/2:\n",
    "\n",
    "$$\\begin{align}\n",
    "\\mathrm{Pr}(000) &= |\\langle 000 | \\psi \\rangle |^{2} = \\frac{1}{2}\\\\\n",
    "\\mathrm{Pr}(111) &= |\\langle 111 | \\psi \\rangle |^{2} = \\frac{1}{2}.\n",
    "\\end{align}$$\n",
    "\n",
    "To simulate a circuit that includes measurement, we need to add measurements to the original circuit above, and use a different Aer backend."
   ]
  },
  {
   "cell_type": "code",
   "execution_count": null,
   "metadata": {},
   "outputs": [],
   "source": [
    "# Create a Classical Register with 3 bits.\n",
    "c = ClassicalRegister(3, 'c')\n",
    "# Create a Quantum Circuit\n",
    "meas = QuantumCircuit(q, c)\n",
    "\n",
    "# Add barrier to ensure separation of circuits\n",
    "meas.barrier(q)\n",
    "# map the quantum measurement to the classical bits\n",
    "meas.measure(q,c)\n",
    "\n",
    "# The Qiskit circuit object supports composition using\n",
    "# the addition operator.\n",
    "qc = circ+meas\n",
    "\n",
    "#drawing the circuit\n",
    "qc.draw(output='mpl')"
   ]
  },
  {
   "cell_type": "markdown",
   "metadata": {},
   "source": [
    "This circuit adds a classical register, and three measurements that are used to map the outcome of qubits to the classical bits. \n",
    "\n",
    "To simulate this circuit, we use the ``qasm_simulator`` in Qiskit Aer. Each run of this circuit will yield either the bitstring 000 or 111. To build up statistics about the distribution of the bitstrings (to, e.g., estimate $\\mathrm{Pr}(000)$), we need to repeat the circuit many times. The number of times the circuit is repeated can be specified in the ``execute`` function, via the ``shots`` keyword."
   ]
  },
  {
   "cell_type": "code",
   "execution_count": null,
   "metadata": {
    "ExecuteTime": {
     "end_time": "2018-09-29T00:04:28.595093Z",
     "start_time": "2018-09-29T00:04:28.589162Z"
    },
    "hideOutput": true
   },
   "outputs": [],
   "source": [
    "# Use Aer's qasm_simulator\n",
    "backend_sim = BasicAer.get_backend('qasm_simulator')\n",
    "\n",
    "# Execute the circuit on the qasm simulator.\n",
    "# We've set the number of repeats of the circuit\n",
    "# to be 1024, which is the default.\n",
    "job_sim = execute(qc, backend_sim, shots=1024)\n",
    "\n",
    "# Grab the results from the job.\n",
    "result_sim = job_sim.result()"
   ]
  },
  {
   "cell_type": "markdown",
   "metadata": {},
   "source": [
    "Once you have a result object, you can access the counts via the function `get_counts(circuit)`. This gives you the _aggregated_ binary outcomes of the circuit you submitted."
   ]
  },
  {
   "cell_type": "code",
   "execution_count": null,
   "metadata": {
    "ExecuteTime": {
     "end_time": "2018-09-29T00:04:30.559484Z",
     "start_time": "2018-09-29T00:04:30.513862Z"
    }
   },
   "outputs": [],
   "source": [
    "counts = result_sim.get_counts(qc)\n",
    "print(counts)"
   ]
  },
  {
   "cell_type": "markdown",
   "metadata": {},
   "source": [
    "Approximately 50 percent of the time the output bitstring is 000. Qiskit Terra also provides a function `plot_histogram` which allows you to view the outcomes. "
   ]
  },
  {
   "cell_type": "code",
   "execution_count": null,
   "metadata": {},
   "outputs": [],
   "source": [
    "from qiskit.tools.visualization import plot_histogram\n",
    "plot_histogram(counts)"
   ]
  },
  {
   "cell_type": "markdown",
   "metadata": {},
   "source": [
    "The estimated outcome probabilities $\\mathrm{Pr}(000)$ and  $\\mathrm{Pr}(111)$ are computed by taking the aggregate counts and dividing by the number of shots (times the circuit was repeated). Try changing the ``shots`` keyword in the ``execute`` function and see how the estimated probabilities change."
   ]
  },
  {
   "cell_type": "markdown",
   "metadata": {},
   "source": [
    "## Running circuits using the IBMQ provider <a id='ibmq_provider'></a>\n",
    "\n",
    "To faciliate access to real quantum computing hardware, we have provided a simple API interface.\n",
    "To access IBMQ devices, you'll need an API token. For the public IBM Q devices, you can generate an API token [here](https://quantumexperience.ng.bluemix.net/qx/account/advanced) (create an account if you don't already have one). For Q Network devices, login to the q-console, click your hub, group, and project, and expand \"Get Access\" to generate your API token and access url.\n",
    "\n",
    "Our IBMQ provider lets you run your circuit on real devices or on our HPC simulator. Currently, this provider exists within Qiskit, and can be imported as shown below. For details on the provider, see [The IBMQ Provider](the_ibmq_provider.ipynb)."
   ]
  },
  {
   "cell_type": "code",
   "execution_count": null,
   "metadata": {
    "ExecuteTime": {
     "end_time": "2018-09-29T00:04:37.950277Z",
     "start_time": "2018-09-29T00:04:37.947819Z"
    }
   },
   "outputs": [],
   "source": [
    "from qiskit import IBMQ"
   ]
  },
  {
   "cell_type": "markdown",
   "metadata": {},
   "source": [
    "After generating your API token, call, `IBMQ.save_account('MY_TOKEN')`. For Q Network users, you'll also need to include your access url: `IBMQ.save_account('MY_TOKEN', 'URL')`\n",
    "\n",
    "This will store your IBMQ credentials in a local file.  Unless your registration information has changed, you only need to do this once.  You may now load your accounts by calling,"
   ]
  },
  {
   "cell_type": "code",
   "execution_count": null,
   "metadata": {
    "hideCode": true
   },
   "outputs": [],
   "source": [
    "#IBMQ.save_account('02d80c1ea0c97d14058c4983861b6de8695a8c127cb8467f8ede65d9a11f6420612e13cf6863a5c62ae987aa4d52287eb4a975336086ae27efac974a64d80760')"
   ]
  },
  {
   "cell_type": "code",
   "execution_count": null,
   "metadata": {
    "ExecuteTime": {
     "end_time": "2018-09-29T00:04:41.166242Z",
     "start_time": "2018-09-29T00:04:40.072340Z"
    }
   },
   "outputs": [],
   "source": [
    "IBMQ.load_accounts()"
   ]
  },
  {
   "cell_type": "markdown",
   "metadata": {},
   "source": [
    "Once your account has been loaded, you can view the list of backends available to you."
   ]
  },
  {
   "cell_type": "code",
   "execution_count": null,
   "metadata": {},
   "outputs": [],
   "source": [
    "print(\"Available backends:\")\n",
    "IBMQ.backends()"
   ]
  },
  {
   "cell_type": "code",
   "execution_count": null,
   "metadata": {},
   "outputs": [],
   "source": [
    "#drawing the circuit\n",
    "qc.draw(output='mpl')"
   ]
  },
  {
   "cell_type": "markdown",
   "metadata": {},
   "source": [
    "### Running circuits on real devices\n",
    "\n",
    "Today's quantum information processors are small and noisy, but are advancing at a fast pace. They provide a great opportunity to explore what [noisy, intermediate-scale quantum (NISQ)](https://arxiv.org/abs/1801.00862) computers can do."
   ]
  },
  {
   "cell_type": "markdown",
   "metadata": {},
   "source": [
    "The IBMQ provider uses a queue to allocate the devices to users. We now choose a device with the least busy queue which can support our program (has at least 3 qubits)."
   ]
  },
  {
   "cell_type": "code",
   "execution_count": null,
   "metadata": {
    "ExecuteTime": {
     "end_time": "2018-09-29T00:04:50.410670Z",
     "start_time": "2018-09-29T00:04:41.860767Z"
    }
   },
   "outputs": [],
   "source": [
    "from qiskit.providers.ibmq import least_busy\n",
    "\n",
    "large_enough_devices = IBMQ.backends(filters=lambda x: x.configuration().n_qubits > 4 and\n",
    "                                                       not x.configuration().simulator)\n",
    "backend = least_busy(large_enough_devices)\n",
    "print(\"The best backend is \" + backend.name())"
   ]
  },
  {
   "cell_type": "markdown",
   "metadata": {},
   "source": [
    "To run the circuit on the backend, we need to specify the number of shots and the number of credits we are willing to spend to run the circuit. Then, we execute the circuit on the backend using the ``execute`` function."
   ]
  },
  {
   "cell_type": "code",
   "execution_count": null,
   "metadata": {
    "ExecuteTime": {
     "end_time": "2018-09-29T00:04:52.336262Z",
     "start_time": "2018-09-29T00:04:51.755588Z"
    },
    "scrolled": true
   },
   "outputs": [],
   "source": [
    "from qiskit.tools.monitor import job_monitor\n",
    "shots = 1024           # Number of shots to run the program (experiment); maximum is 8192 shots.\n",
    "max_credits = 3        # Maximum number of credits to spend on executions. \n",
    "\n",
    "job_exp = execute(qc, backend=backend, shots=shots, max_credits=max_credits)\n",
    "job_monitor(job_exp)"
   ]
  },
  {
   "cell_type": "markdown",
   "metadata": {},
   "source": [
    "``job_exp`` has a ``.result()`` method that lets us get the results from running our circuit.\n",
    "\n",
    "<div class=\"alert alert-block alert-info\">\n",
    "<b>Note:</b> When the .result() method is called, the code block will wait until the job has finished before releasing the cell.\n",
    "</div>"
   ]
  },
  {
   "cell_type": "code",
   "execution_count": null,
   "metadata": {
    "ExecuteTime": {
     "end_time": "2018-09-29T00:05:42.718830Z",
     "start_time": "2018-09-29T00:05:42.296069Z"
    }
   },
   "outputs": [],
   "source": [
    "result_exp = job_exp.result()"
   ]
  },
  {
   "cell_type": "markdown",
   "metadata": {},
   "source": [
    "Like before, the counts from the execution can be obtained using ```get_counts(qc)``` "
   ]
  },
  {
   "cell_type": "code",
   "execution_count": null,
   "metadata": {
    "ExecuteTime": {
     "end_time": "2018-09-29T00:05:44.604801Z",
     "start_time": "2018-09-29T00:05:44.599850Z"
    }
   },
   "outputs": [],
   "source": [
    "counts_exp = result_exp.get_counts(qc)\n",
    "plot_histogram([counts_exp,counts])"
   ]
  },
  {
   "cell_type": "markdown",
   "metadata": {},
   "source": [
    "### Simulating circuits using a HPC simulator\n",
    "\n",
    "The IBMQ provider also comes with a remote optimized simulator called ``ibmq_qasm_simulator``. This remote simulator is capable of simulating up to 32 qubits. It can be used the \n",
    "same way as the remote real backends. "
   ]
  },
  {
   "cell_type": "code",
   "execution_count": null,
   "metadata": {},
   "outputs": [],
   "source": [
    "backend = IBMQ.get_backend('ibmq_qasm_simulator', hub=None)"
   ]
  },
  {
   "cell_type": "code",
   "execution_count": null,
   "metadata": {},
   "outputs": [],
   "source": [
    "shots = 1024           # Number of shots to run the program (experiment); maximum is 8192 shots.\n",
    "max_credits = 3        # Maximum number of credits to spend on executions. \n",
    "\n",
    "job_hpc = execute(qc, backend=backend, shots=shots, max_credits=max_credits)"
   ]
  },
  {
   "cell_type": "code",
   "execution_count": null,
   "metadata": {},
   "outputs": [],
   "source": [
    "result_hpc = job_hpc.result()"
   ]
  },
  {
   "cell_type": "code",
   "execution_count": null,
   "metadata": {},
   "outputs": [],
   "source": [
    "counts_hpc = result_hpc.get_counts(qc)\n",
    "plot_histogram(counts_hpc)"
   ]
  },
  {
   "cell_type": "markdown",
   "metadata": {},
   "source": [
    "### Retrieving a previously ran job\n",
    "\n",
    "If your experiment takes longer to run then you have time to wait around, or if you simply want to retrieve old jobs back, the IBMQ backends allow you to do that.\n",
    "First you would need to note your job's ID:"
   ]
  },
  {
   "cell_type": "code",
   "execution_count": null,
   "metadata": {
    "ExecuteTime": {
     "end_time": "2018-09-29T00:05:57.842131Z",
     "start_time": "2018-09-29T00:05:57.839227Z"
    }
   },
   "outputs": [],
   "source": [
    "jobID = job_exp.job_id()\n",
    "\n",
    "print('JOB ID: {}'.format(jobID))        "
   ]
  },
  {
   "cell_type": "markdown",
   "metadata": {},
   "source": [
    "Given a job ID, that job object can be later reconstructed from the backend using retrieve_job:"
   ]
  },
  {
   "cell_type": "code",
   "execution_count": null,
   "metadata": {},
   "outputs": [],
   "source": [
    "job_get=backend.retrieve_job(jobID)"
   ]
  },
  {
   "cell_type": "markdown",
   "metadata": {},
   "source": [
    "and then the results can be obtained from the new job object. "
   ]
  },
  {
   "cell_type": "code",
   "execution_count": null,
   "metadata": {},
   "outputs": [],
   "source": [
    "job_get.result().get_counts(qc)"
   ]
  },
  {
   "cell_type": "markdown",
   "metadata": {},
   "source": [
    "## Practical exercises<a id='exercises'></a>"
   ]
  },
  {
   "cell_type": "markdown",
   "metadata": {},
   "source": [
    "### Half adder circuit\n",
    "\n",
    "The half adder produces the addition of numbers. \n",
    "Usually, the input corresponds to __A__ and __B__ and give the output __S__ (sum) and __C__ (carry).\n",
    "\n",
    "<img src=\"img/Half_Adder.png\" alt=\"Note: In order for images to show up in this jupyter notebook you need to select File => Trusted Notebook\" width=\"500 px\" align=\"center\">\n",
    "\n",
    "\n",
    "\n",
    "| $q_0$ (input) = A | $q_1$ (input) = B | $q_1$ (output) = S  | $q_2$ (output) = C |\n",
    "|-----------------|-----------------|-------------------|------------------|\n",
    "|        0        |         0       |             0     |      0     |\n",
    "|        1        |         0       |      1            |      0     |\n",
    "|        0        |         1       |      1     |      0     |\n",
    "|        1        |         1       |      0     |      1     |"
   ]
  },
  {
   "cell_type": "code",
   "execution_count": null,
   "metadata": {},
   "outputs": [],
   "source": [
    "half_adder = QuantumCircuit(q, c)\n",
    "\n",
    "half_adder.h(q[0])\n",
    "half_adder.h(q[1])\n",
    "\n",
    "half_adder.ccx(q[0], q[1], q[2])\n",
    "half_adder.cx(q[0], q[1])\n",
    "\n",
    "half_adder.measure(q[0], c[0])\n",
    "half_adder.measure(q[1], c[1])\n",
    "half_adder.measure(q[2], c[2])\n",
    "\n",
    "half_adder.draw(output='mpl')"
   ]
  },
  {
   "cell_type": "code",
   "execution_count": null,
   "metadata": {},
   "outputs": [],
   "source": [
    "job_haSim = execute(half_adder, backend_sim, shots=1024)\n",
    "\n",
    "result_haSim = job_haSim.result()"
   ]
  },
  {
   "cell_type": "code",
   "execution_count": null,
   "metadata": {},
   "outputs": [],
   "source": [
    "counts_ha = result_haSim.get_counts(half_adder)\n",
    "print(counts_ha)\n",
    "\n",
    "plot_histogram(counts_ha)"
   ]
  },
  {
   "cell_type": "code",
   "execution_count": null,
   "metadata": {},
   "outputs": [],
   "source": [
    "half_adder_1 = QuantumCircuit(q, c)\n",
    "\n",
    "half_adder_1.x(q[0])\n",
    "\n",
    "half_adder_1.ccx(q[0], q[1], q[2])\n",
    "half_adder_1.cx(q[0], q[1])\n",
    "\n",
    "half_adder_1.measure(q[0], c[0])\n",
    "half_adder_1.measure(q[1], c[1])\n",
    "half_adder_1.measure(q[2], c[2])\n",
    "\n",
    "half_adder_1.draw(output='mpl')"
   ]
  },
  {
   "cell_type": "code",
   "execution_count": null,
   "metadata": {
    "scrolled": true
   },
   "outputs": [],
   "source": [
    "backend_sim = BasicAer.get_backend('qasm_simulator')\n",
    "\n",
    "job_haSim_1 = execute(half_adder_1, backend_sim, shots=1024)\n",
    "\n",
    "result_haSim_1 = job_haSim_1.result()\n",
    "\n",
    "counts_ha_1 = result_haSim_1.get_counts(half_adder_1)\n",
    "print(\"'CSA':... \\n\",counts_ha_1)\n",
    "\n",
    "plot_histogram(counts_ha_1)"
   ]
  },
  {
   "cell_type": "code",
   "execution_count": null,
   "metadata": {},
   "outputs": [],
   "source": [
    "backend = IBMQ.get_backend('ibmqx4')\n",
    "\n",
    "shots = 1024           # Number of shots to run the program (experiment); maximum is 8192 shots.\n",
    "max_credits = 3        # Maximum number of credits to spend on executions. \n",
    "\n",
    "job_ha_exp = execute(half_adder_1, backend=backend, shots=shots, max_credits=max_credits)\n",
    "job_monitor(job_ha_exp)\n",
    "\n",
    "result_exp_ha = job_ha_exp.result()"
   ]
  },
  {
   "cell_type": "code",
   "execution_count": null,
   "metadata": {},
   "outputs": [],
   "source": [
    "counts_exp_ha = result_exp_ha.get_counts(half_adder_1)\n",
    "plot_histogram([counts_exp_ha,counts_ha_1])"
   ]
  },
  {
   "cell_type": "code",
   "execution_count": null,
   "metadata": {},
   "outputs": [],
   "source": [
    "# It is possible to check the compiled circuit and the operations as run on the physical device\n",
    "from qiskit import compile\n",
    "from qiskit.converters import qobj_to_circuits"
   ]
  },
  {
   "cell_type": "code",
   "execution_count": null,
   "metadata": {},
   "outputs": [],
   "source": [
    "qasm_half_adder_sim = compile(job_ha_exp, backend)\n",
    "\n",
    "qasm_haslf_adder_s = qobj_to_circuits(qasm_half_adder_sim)[0]"
   ]
  },
  {
   "cell_type": "code",
   "execution_count": null,
   "metadata": {},
   "outputs": [],
   "source": [
    "qasm_half_adder_s.draw()"
   ]
  },
  {
   "cell_type": "code",
   "execution_count": null,
   "metadata": {},
   "outputs": [],
   "source": [
    "qasm_half_adder_exc = get_compiled_qasm(half_adder_1, backend)\n",
    "qasm_half_adder_e = qiskit.load_qasm_string(qasm_half_adder_exc)\n",
    "qasm_half_adder_e.draw()"
   ]
  },
  {
   "cell_type": "markdown",
   "metadata": {},
   "source": [
    "### The Deutsch-Jozsa problem\n",
    "\n",
    "We are given a black box quantum computer known as an oracle that implements some function $f:\\{0,1\\}^n\\rightarrow \\{0,1\\}$ - it takes n-digit binary values as input and produces either a 0 or a 1 as output for each such value. We are promised that the function is either constant (0 on all outputs or 1 on all outputs) or balanced (returns 1 for half of the input domain and 0 for the other half); the task then is to determine if $f$ is constant or balanced by using the oracle. \n",
    "\n",
    "<img src=\"img/Deutsch-Jozsa.png\" alt=\"Note: In order for images to show up in this jupyter notebook you need to select File => Trusted Notebook\" width=\"600 px\" align=\"center\">\n",
    "\n",
    "Finally we examine the probability of measuring $ |0\\rangle ^{\\otimes n}$, which evaluates to 1 if $f ( x )$ is constant (constructive interference) and 0 if $f ( x )$ is balanced (destructive interference). \n",
    "\n",
    "1. Implement an oracle for a 1-qubit constant function.\n",
    "2. Implement an oracle for a 2-qubit balanced funtion."
   ]
  },
  {
   "cell_type": "markdown",
   "metadata": {},
   "source": [
    "### Toffoli decomposition\n",
    "\n",
    "Toffoli gates cannot be physically implemented in most experimentally demonstrated quantum processors.\n",
    "\n",
    "1. How to decompose a Toffoli gate using CNOT and Hadamard operations?\n",
    "\n",
    "<img src=\"img/ToffolifromCNOT.png\" alt=\"Note: In order for images to show up in this jupyter notebook you need to select File => Trusted Notebook\" width=\"800 px\" align=\"center\">"
   ]
  },
  {
   "cell_type": "markdown",
   "metadata": {},
   "source": [
    "## Get backend device information\n",
    "\n",
    "It is possible to get information about the properties of particular backend, such as gate and measurement error (per qubit), qubit connectivity or coherence times."
   ]
  },
  {
   "cell_type": "code",
   "execution_count": null,
   "metadata": {},
   "outputs": [],
   "source": [
    "backend.properties()"
   ]
  },
  {
   "cell_type": "markdown",
   "metadata": {},
   "source": [
    "### Quantum devices - experimental properties\n",
    "\n",
    "#### Physical gate set\n",
    "\n",
    "Although IBM's interface allows the user to program a quantum algorithm using a broad set of single and multi-qubit gates, these are compiled into the two types of quantum operations which can be directly implemented physically. One is a unitary operation:\n",
    "\n",
    "$$U(\\theta, \\phi, \\lambda) = R_Z(\\phi) R_Y(\\theta) R_Z(\\lambda)$$\n",
    "\n",
    "acting on a single qubit, which can be represented as a Bloch sphere qubit rotation on the z-axis, followed by a rotation on the y-axis and another rotation on the z-axis (i.e. a generalised Euler rotation). The other physically implementable operation is a controlled NOT gate (CNOT, or CX). All quantum algorithms to be performed on actual quantum devices need to be decomposed into a sequence of these two types of operations.\n",
    "\n",
    "\n",
    "#### Qubit map\n",
    "\n",
    "Besides the restriction regarding the available gates, there are further physical constraints given by the physical architecture of the chip. In fact, CNOT gates can be directly applied only to qubits that are connected.\n",
    "\n",
    "<img src=\"img/qubit_map.png\" alt=\"Note: In order for images to show up in this jupyter notebook you need to select File => Trusted Notebook\" width=\"800 px\" align=\"center\">\n",
    "\n",
    "a) IBM Q5 Tenerife;\n",
    "b) IBM Q20 Tokyo;\n",
    "\n",
    "There are ways to circumvent the chip's architecture limitations (for example, by using SWAP operations to allow for a CNOT gate between otherwise physically uncoupled qubits). The study and development of efficient mapping algorithms between logical (software) and physical qubits, for a given quantum program, has only recently started receiving serious attention from the quantum information community. As the size and complexity of quantum processor chips increase, efficient mapping algorithms will become crucial to successful demonstrations of the applications of quantum computers.\n",
    "\n",
    "\n",
    "#### Coherence times\n",
    "\n",
    "Current quantum computations are “fragile”. A physical qubit does not hold its state indefinitely, but undergoes random bit-flips and loses its phase over time, i.e. undergoes decoherence. Decoherence is the loss of quantum \"properties\" of a quantum system. Quantum devices have associated decoherence times, which limit the number of quantum operations that can be performed before the results are \"drowned\" by noise. \n",
    "\n",
    "One can distinguish between two measures of decoherence:\n",
    "\n",
    "1. $T_1$ is the \"longitudinal coherence time\" (also known as \"amplitude damping\"), and it measures loss of energy from the system.\n",
    "2. $T_2$ is the \"transverse coherence time\" (also known as \"phase damping\").\n",
    "\n",
    "<img src=\"img/coherence_times.png\" alt=\"Note: In order for images to show up in this jupyter notebook you need to select File => Trusted Notebook\" width=\"800 px\" align=\"center\">\n",
    "\n",
    "One way to estimate $T_1$ is to initialize a qubit to the ground state $| 0 \\rangle$ (for , apply an $X$ gate to turn it into $| 1 \\rangle$, and measure it in the computational basis after a time $t$. The probability of the qubit staying in the $| 1 \\rangle$ state is expected to follow an exponential decay curve $e^{-t/T_1}$. To experimentally determine $T_2$, one can initialise a qubit to the ground state $| 0 \\rangle$, apply an Hadamard transform $H$ to change it into $\\frac{| 0 \\rangle + | 1 \\rangle}{\\sqrt{2}}$ and wait for a time $t$ before applying another transform $H$ and measuring the qubit on the computational basis."
   ]
  },
  {
   "cell_type": "code",
   "execution_count": null,
   "metadata": {},
   "outputs": [],
   "source": []
  },
  {
   "cell_type": "markdown",
   "metadata": {
    "slideshow": {
     "slide_type": "skip"
    }
   },
   "source": [
    "## Single Qubit Quantum states\n",
    "\n",
    "A single qubit quantum state can be written as\n",
    "\n",
    "$$|\\psi\\rangle = \\alpha|0\\rangle + \\beta |1\\rangle$$\n",
    "\n",
    "\n",
    "where $\\alpha$ and $\\beta$ are complex numbers. In a measurement the probability of the bit being in $|0\\rangle$ is $|\\alpha|^2$ and $|1\\rangle$ is $|\\beta|^2$. As a vector this is\n",
    "\n",
    "$$\n",
    "|\\psi\\rangle =  \n",
    "\\begin{pmatrix}\n",
    "\\alpha \\\\\n",
    "\\beta\n",
    "\\end{pmatrix}.\n",
    "$$\n",
    "\n",
    "Note due to conservation probability $|\\alpha|^2+ |\\beta|^2 = 1$ and since global phase is undetectable $|\\psi\\rangle := e^{i\\delta} |\\psi\\rangle$ we only require two real numbers to describe a single qubit quantum state.\n",
    "\n",
    "A convenient representation is\n",
    "\n",
    "$$|\\psi\\rangle = \\cos(\\theta/2)|0\\rangle + \\sin(\\theta/2)e^{i\\phi}|1\\rangle$$\n",
    "\n",
    "where $0\\leq \\phi < 2\\pi$, and $0\\leq \\theta \\leq \\pi$.  From this it is clear that there is a one-to-one correspondence between qubit states ($\\mathbb{C}^2$) and the points on the surface of a unit sphere ($\\mathbb{R}^3$). This is called the Bloch sphere representation of a qubit state.\n",
    "\n",
    "<img src=\"img/Bloch_sphere.png\" alt=\"Note: In order for images to show up in this jupyter notebook you need to select File => Trusted Notebook\" width=\"300 px\" align=\"center\">\n",
    "\n",
    "By contrast, a representation of a classical bit over the Bloch sphere would only require the two points of the sphere intersecting the Z axis. \n",
    "\n",
    "Quantum gates/operations are usually represented as matrices. A gate which acts on a qubit is represented by a $2\\times 2$ unitary matrix $U$. The action of the quantum gate is found by multiplying the matrix representing the gate with the vector which represents the quantum state.\n",
    "\n",
    "$$|\\psi'\\rangle = U|\\psi\\rangle$$\n",
    "\n",
    "A general unitary must be able to take the $|0\\rangle$ to the above state. That is \n",
    "\n",
    "$$\n",
    "U = \\begin{pmatrix}\n",
    "\\cos(\\theta/2) & a \\\\\n",
    "e^{i\\phi}\\sin(\\theta/2) & b \n",
    "\\end{pmatrix}\n",
    "$$ \n",
    "\n",
    "where $a$ and $b$ are complex numbers constrained such that $U^\\dagger U = I$ for all $0\\leq\\theta\\leq\\pi$ and $0\\leq \\phi<2\\pi$. This gives 3 constraints and as such $a\\rightarrow -e^{i\\lambda}\\sin(\\theta/2)$ and $b\\rightarrow e^{i\\lambda+i\\phi}\\cos(\\theta/2)$ where $0\\leq \\lambda<2\\pi$ giving \n",
    "\n",
    "$$\n",
    "U = \\begin{pmatrix}\n",
    "\\cos(\\theta/2) & -e^{i\\lambda}\\sin(\\theta/2) \\\\\n",
    "e^{i\\phi}\\sin(\\theta/2) & e^{i\\lambda+i\\phi}\\cos(\\theta/2) \n",
    "\\end{pmatrix}.\n",
    "$$\n",
    "\n",
    "This is the most general form of a single qubit unitary."
   ]
  },
  {
   "cell_type": "code",
   "execution_count": null,
   "metadata": {},
   "outputs": [],
   "source": []
  }
 ],
 "metadata": {
  "anaconda-cloud": {},
  "celltoolbar": "Slideshow",
  "kernelspec": {
   "display_name": "Python 3",
   "language": "python",
   "name": "python3"
  },
  "language_info": {
   "codemirror_mode": {
    "name": "ipython",
    "version": 3
   },
   "file_extension": ".py",
   "mimetype": "text/x-python",
   "name": "python",
   "nbconvert_exporter": "python",
   "pygments_lexer": "ipython3",
   "version": "3.6.4"
  }
 },
 "nbformat": 4,
 "nbformat_minor": 1
}
